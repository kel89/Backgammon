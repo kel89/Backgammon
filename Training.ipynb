{
 "cells": [
  {
   "cell_type": "markdown",
   "metadata": {},
   "source": [
    "# Training Notebook"
   ]
  },
  {
   "cell_type": "code",
   "execution_count": 84,
   "metadata": {},
   "outputs": [],
   "source": [
    "import numpy as np\n",
    "import tensorflow as tf\n",
    "from backgammon import *\n",
    "from RandomPlayer import *\n",
    "from tqdm.notebook import tqdm\n",
    "\n",
    "from tensorflow.keras.layers import Input, Dense, Dropout\n",
    "\n",
    "import os\n",
    "os.environ['KMP_DUPLICATE_LIB_OK'] = 'True'"
   ]
  },
  {
   "cell_type": "code",
   "execution_count": 42,
   "metadata": {},
   "outputs": [],
   "source": [
    "rp1 = RandomPlayer(\"player 1\")\n",
    "rp2 = RandomPlayer(\"player 2\")\n",
    "\n",
    "go = play_game(rp1, rp2)"
   ]
  },
  {
   "cell_type": "code",
   "execution_count": 43,
   "metadata": {},
   "outputs": [
    {
     "data": {
      "text/plain": [
       "dict_keys(['winner', 'turns', 'boards', 'starting_player'])"
      ]
     },
     "execution_count": 43,
     "metadata": {},
     "output_type": "execute_result"
    }
   ],
   "source": [
    "go.keys()"
   ]
  },
  {
   "cell_type": "markdown",
   "metadata": {},
   "source": [
    "Based on the the return of playing a game, I need to be able to tell which board was seen by which player, so I can decide to pair it with a win or a loss while training. (Note, I will need to flip boards associated with player 2 in training because I am going to train as if it is ALWAYS player 1. At least at first, It may be interesting to train a player 1 and a player 2 network later"
   ]
  },
  {
   "cell_type": "code",
   "execution_count": 51,
   "metadata": {},
   "outputs": [],
   "source": [
    "# Get all of each player's boards\n",
    "if (go['starting_player'].which == 'player 1'):\n",
    "    p1_mod = 0\n",
    "    p2_mod = 1\n",
    "else:\n",
    "    p1_mod = 1\n",
    "    p2_mod = 0\n",
    "    \n",
    "boards = np.array(go['boards'])\n",
    "p1_inds = np.where(np.arange(len(boards)) % 2 == p1_mod)[0]\n",
    "p2_inds = np.where(np.arange(len(boards)) % 2 == p2_mod)[0]\n",
    "p1_boards = boards[p1_inds]\n",
    "p2_boards = boards[p2_inds]"
   ]
  },
  {
   "cell_type": "code",
   "execution_count": 53,
   "metadata": {},
   "outputs": [],
   "source": [
    "# Get the outcome vectors for each of the players\n",
    "if go['winner'].which == \"player 1\":\n",
    "    p1_outcome = np.ones(p1_boards.shape[0])\n",
    "    p2_outcome = np.zeros(p2_boards.shape[1])\n",
    "else:\n",
    "    p1_outcome = np.zeros(p1.boards.shape[0])\n",
    "    p2_outcome = np.ones(p2.boards.shape[0])"
   ]
  },
  {
   "cell_type": "markdown",
   "metadata": {},
   "source": [
    "The above gets me everything I should need to train. So now we need to setup the basics of a model. For now, I am going to setup a model for each of the different players, and I am going to make the architectures slightly different for each, this may help to decide if one is better than the other"
   ]
  },
  {
   "cell_type": "code",
   "execution_count": 171,
   "metadata": {},
   "outputs": [],
   "source": [
    "class PlayerANN():\n",
    "    def __init__(self, which):\n",
    "        self.which = which\n",
    "        self.setupNetwork()\n",
    "        \n",
    "    def setupNetwork(self):\n",
    "        \"\"\"\n",
    "        Sets up the keras NN\n",
    "        \"\"\"\n",
    "        in_layer = Input(shape=(28, ))\n",
    "        d1 = Dense(40, activation='relu')(in_layer)\n",
    "        d2 = Dense(10, activation='relu')(d1)\n",
    "        out = Dense(1, activation='sigmoid')(d2)\n",
    "        \n",
    "        self.model = tf.keras.Model(inputs=in_layer, outputs=out)\n",
    "        \n",
    "    def action(self, board, vals):\n",
    "        \"\"\"\n",
    "        Takes in the current board state and\n",
    "        the value of the dice\n",
    "        Returns the moves this player would like to make\n",
    "        First, determiens all possible moves and the boards\n",
    "        that would accompany them, then it runs all boards\n",
    "        through the model and takes the move that yields\n",
    "        the board with the highest probability of winning\n",
    "        \"\"\"\n",
    "        # Get all the moves\n",
    "        all_moves = get_all_moves(board, vals, self.which)\n",
    "        \n",
    "        if (len(all_moves) == 0):\n",
    "            return []\n",
    "        \n",
    "        # Get all the boards for those moves\n",
    "        board = np.copy(board)\n",
    "        boards = np.zeros([len(all_moves), 28])\n",
    "        i = 0\n",
    "        for move in all_moves:\n",
    "            boards[i] = update_by_moves(board, move)\n",
    "        \n",
    "        # Get the predicted probabilities for each board\n",
    "        probs = self.model(boards)\n",
    "        \n",
    "        # Take the move with argmax board probs\n",
    "        best_move = all_moves[np.argmax(probs)]\n",
    "        \n",
    "        return best_move\n",
    "    \n",
    "    def update_model(self, boards, outcomes, verbose=0):\n",
    "        \"\"\"\n",
    "        Training step for the model, takes in the boards to be trained on\n",
    "        and a vector of the outcomes associated with that board\n",
    "        \"\"\"\n",
    "        # Compile the model\n",
    "        self.model.compile(\n",
    "            optimizer='adam',\n",
    "            loss='mse'\n",
    "        )\n",
    "        \n",
    "        # Train the model\n",
    "        mf = self.model.fit(boards, outcomes, verbose=verbose)"
   ]
  },
  {
   "cell_type": "code",
   "execution_count": 172,
   "metadata": {},
   "outputs": [],
   "source": [
    "p1 = PlayerANN(\"player 1\")"
   ]
  },
  {
   "cell_type": "code",
   "execution_count": 173,
   "metadata": {},
   "outputs": [
    {
     "name": "stdout",
     "output_type": "stream",
     "text": [
      "Roll [3 4]\n",
      "Board:\n",
      "[-5.  0.  0.  0.  3.  0.  5.  0.  0.  0.  0. -2.]\n",
      "[ 5.  0.  0.  0. -3.  0. -5.  0.  0.  0.  0.  2.]\n",
      "Bar: [0. 0.]\n",
      "End: [0. 0.]\n"
     ]
    }
   ],
   "source": [
    "b = init_state()\n",
    "vals = roll()\n",
    "print(\"Roll\", vals)\n",
    "pretty_print(b)"
   ]
  },
  {
   "cell_type": "code",
   "execution_count": 174,
   "metadata": {},
   "outputs": [
    {
     "name": "stdout",
     "output_type": "stream",
     "text": [
      "WARNING:tensorflow:Layer dense_60 is casting an input tensor from dtype float64 to the layer's dtype of float32, which is new behavior in TensorFlow 2.  The layer has dtype float32 because it's dtype defaults to floatx.\n",
      "\n",
      "If you intended to run this layer in float32, you can safely ignore this warning. If in doubt, this warning is likely only an issue if you are porting a TensorFlow 1.X model to TensorFlow 2.\n",
      "\n",
      "To change all layers to have dtype float64 by default, call `tf.keras.backend.set_floatx('float64')`. To change just this layer, pass dtype='float64' to the layer constructor. If you are the author of this layer, you can disable autocasting by passing autocast=False to the base Layer constructor.\n",
      "\n"
     ]
    },
    {
     "data": {
      "text/plain": [
       "[[0, 3], [11, 15]]"
      ]
     },
     "execution_count": 174,
     "metadata": {},
     "output_type": "execute_result"
    }
   ],
   "source": [
    "p1.action(b, vals)"
   ]
  },
  {
   "cell_type": "code",
   "execution_count": 175,
   "metadata": {},
   "outputs": [],
   "source": [
    "p1.update_model(p1_boards, p1_outcome)"
   ]
  },
  {
   "cell_type": "markdown",
   "metadata": {},
   "source": [
    "# Training one !!!!!\n",
    "Just for fun, we are going to have our \"smart\" (or likely very dumb) model play against a random agent a whole butt load of times. After each game we are going to update the model. This will help us uncover any bugs, and give us some practice recording the necessary statistics and tracking outcomes."
   ]
  },
  {
   "cell_type": "code",
   "execution_count": null,
   "metadata": {},
   "outputs": [
    {
     "data": {
      "application/vnd.jupyter.widget-view+json": {
       "model_id": "0c78d6e9326a4127afc108a659131dba",
       "version_major": 2,
       "version_minor": 0
      },
      "text/plain": [
       "HBox(children=(FloatProgress(value=0.0, max=10000.0), HTML(value='')))"
      ]
     },
     "metadata": {},
     "output_type": "display_data"
    },
    {
     "name": "stdout",
     "output_type": "stream",
     "text": [
      "WARNING:tensorflow:Layer dense_84 is casting an input tensor from dtype float64 to the layer's dtype of float32, which is new behavior in TensorFlow 2.  The layer has dtype float32 because it's dtype defaults to floatx.\n",
      "\n",
      "If you intended to run this layer in float32, you can safely ignore this warning. If in doubt, this warning is likely only an issue if you are porting a TensorFlow 1.X model to TensorFlow 2.\n",
      "\n",
      "To change all layers to have dtype float64 by default, call `tf.keras.backend.set_floatx('float64')`. To change just this layer, pass dtype='float64' to the layer constructor. If you are the author of this layer, you can disable autocasting by passing autocast=False to the base Layer constructor.\n",
      "\n",
      "WARNING:tensorflow:Layer dense_81 is casting an input tensor from dtype float64 to the layer's dtype of float32, which is new behavior in TensorFlow 2.  The layer has dtype float32 because it's dtype defaults to floatx.\n",
      "\n",
      "If you intended to run this layer in float32, you can safely ignore this warning. If in doubt, this warning is likely only an issue if you are porting a TensorFlow 1.X model to TensorFlow 2.\n",
      "\n",
      "To change all layers to have dtype float64 by default, call `tf.keras.backend.set_floatx('float64')`. To change just this layer, pass dtype='float64' to the layer constructor. If you are the author of this layer, you can disable autocasting by passing autocast=False to the base Layer constructor.\n",
      "\n"
     ]
    }
   ],
   "source": [
    "N_games = 10000\n",
    "win_tracker = np.zeros(N_games)\n",
    "turn_count_tracker = np.zeros(N_games)\n",
    "\n",
    "# Initialize the players\n",
    "p1 = PlayerANN(\"player 1\")\n",
    "# p2 = RandomPlayer(\"player 2\")\n",
    "p2 = PlayerANN(\"player 2\")\n",
    "\n",
    "c = 0\n",
    "cum_boards = []\n",
    "cum_outcomes = []\n",
    "cum_boards2 = []\n",
    "cum_outcomes2 =[]\n",
    "first = True\n",
    "for i in tqdm(range(N_games)):\n",
    "    c += 1\n",
    "    # Play the game\n",
    "    obj = play_game(p1, p2)\n",
    "    \n",
    "    # Get the boards and outcomes\n",
    "    if (obj['starting_player'].which == 'player 1'):\n",
    "        p1_mod = 0\n",
    "        p2_mod = 1\n",
    "    else:\n",
    "        p1_mod = 1\n",
    "        p2_mod = 0\n",
    "\n",
    "    boards = np.array(obj['boards'])\n",
    "    p1_inds = np.where(np.arange(len(boards)) % 2 == p1_mod)[0]\n",
    "    p2_inds = np.where(np.arange(len(boards)) % 2 == p2_mod)[0]\n",
    "    p1_boards = boards[p1_inds]\n",
    "    p2_boards = boards[p2_inds]\n",
    "    \n",
    "    if go['winner'].which == \"player 1\":\n",
    "        p1_outcome = np.ones(p1_boards.shape[0])\n",
    "        p2_outcome = np.zeros(p2_boards.shape[0])\n",
    "    else:\n",
    "        p1_outcome = np.zeros(p1.boards.shape[0])\n",
    "        p2_outcome = np.ones(p2.boards.shape[0])\n",
    "    \n",
    "    # Track the outcome\n",
    "    win_tracker[i] = 1 if obj['winner'].which == \"player 1\" else 2\n",
    "    turn_count_tracker[i] = obj['turns']\n",
    "    \n",
    "    # Add boards and outcomes to intermediate trackers\n",
    "    cum_boards.append(p1_boards)\n",
    "    cum_outcomes.append(p1_outcome)\n",
    "    cum_boards2.append(p2_boards)\n",
    "    cum_outcomes2.append(p2_outcome)\n",
    "    \n",
    "    # Train every 100 games\n",
    "    if (i % 50 == 0) and not first:\n",
    "        # Stack the boards and outcomes\n",
    "        stacked_boards = np.vstack(cum_boards)\n",
    "        stacked_outcomes = np.concatenate(cum_outcomes)\n",
    "        stacked_boards2 = np.vstack(cum_boards2)\n",
    "        stacked_outcomes2 = np.concatenate(cum_outcomes2)\n",
    "        \n",
    "        # Update the model\n",
    "        p1.update_model(stacked_boards, stacked_outcomes)\n",
    "        p2.update_model(stacked_boards2, stacked_outcomes2)\n",
    "    \n",
    "    first = False\n",
    "    # Train smart player\n",
    "#     p1.update_model(p1_boards, p1_outcome)\n"
   ]
  },
  {
   "cell_type": "code",
   "execution_count": 162,
   "metadata": {},
   "outputs": [
    {
     "name": "stdout",
     "output_type": "stream",
     "text": [
      "Wins: 770\n"
     ]
    }
   ],
   "source": [
    "# Find out how many times we won\n",
    "print(\"Wins:\", np.where(win_tracker == 1)[0].shape[0])\n",
    "print(\"Wins Prop:\", np.where(win_tracker == 1)[0].shape[0]/win_tracker.shape[0]en)"
   ]
  },
  {
   "cell_type": "code",
   "execution_count": 163,
   "metadata": {},
   "outputs": [],
   "source": [
    "import matplotlib.pyplot as plt"
   ]
  },
  {
   "cell_type": "code",
   "execution_count": 164,
   "metadata": {},
   "outputs": [
    {
     "data": {
      "text/plain": [
       "[<matplotlib.lines.Line2D at 0xad9eaf650>]"
      ]
     },
     "execution_count": 164,
     "metadata": {},
     "output_type": "execute_result"
    },
    {
     "data": {
      "image/png": "[encoded data removed]",
      "text/plain": [
       "<Figure size 432x288 with 1 Axes>"
      ]
     },
     "metadata": {
      "needs_background": "light"
     },
     "output_type": "display_data"
    }
   ],
   "source": [
    "# Plot to see if as it learns the number of turns drops\n",
    "plt.plot(turn_count_tracker)"
   ]
  },
  {
   "cell_type": "code",
   "execution_count": 165,
   "metadata": {},
   "outputs": [
    {
     "data": {
      "text/plain": [
       "[<matplotlib.lines.Line2D at 0xada40c9d0>]"
      ]
     },
     "execution_count": 165,
     "metadata": {},
     "output_type": "execute_result"
    },
    {
     "data": {
      "image/png": "[encoded data removed]",
      "text/plain": [
       "<Figure size 432x288 with 1 Axes>"
      ]
     },
     "metadata": {
      "needs_background": "light"
     },
     "output_type": "display_data"
    }
   ],
   "source": [
    "# Plot to see if there is a trend in palyer 1 starting to win more\n",
    "plt.plot(win_tracker)"
   ]
  },
  {
   "cell_type": "code",
   "execution_count": 170,
   "metadata": {},
   "outputs": [
    {
     "data": {
      "text/plain": [
       "[<matplotlib.lines.Line2D at 0xada481910>]"
      ]
     },
     "execution_count": 170,
     "metadata": {},
     "output_type": "execute_result"
    },
    {
     "data": {
      "image/png": "[encoded data removed]",
      "text/plain": [
       "<Figure size 432x288 with 1 Axes>"
      ]
     },
     "metadata": {
      "needs_background": "light"
     },
     "output_type": "display_data"
    }
   ],
   "source": [
    "# Look at proportions of p1 winning per 50 games (training interval) over the 20 intervals\n",
    "plt.plot(np.mean((win_tracker - 1).reshape(-1, 50), axis=1))"
   ]
  },
  {
   "cell_type": "code",
   "execution_count": null,
   "metadata": {},
   "outputs": [],
   "source": []
  }
 ],
 "metadata": {
  "kernelspec": {
   "display_name": "Python 3",
   "language": "python",
   "name": "python3"
  },
  "language_info": {
   "codemirror_mode": {
    "name": "ipython",
    "version": 3
   },
   "file_extension": ".py",
   "mimetype": "text/x-python",
   "name": "python",
   "nbconvert_exporter": "python",
   "pygments_lexer": "ipython3",
   "version": "3.7.6"
  }
 },
 "nbformat": 4,
 "nbformat_minor": 4
}
