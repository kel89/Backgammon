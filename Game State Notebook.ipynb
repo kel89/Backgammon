{
 "cells": [
  {
   "cell_type": "markdown",
   "metadata": {},
   "source": [
    "# Game State\n",
    "In this notebook I will explore setting up the game state, encoding the rules, and coming up with a way to determine all the possible moves given a game state and a dice roll. \n",
    "\n",
    "[This Repo](https://github.com/weekend37/Backgammon) contains python code that could be useful. \n",
    "\n",
    "One thing I really like about what they do is use negative numbers to represent the other play, instead of increasing the size of the array, so we would need 24 board spaces, two bar spaces, two end spaces, for a total of 28 spaces--I think we should do that"
   ]
  },
  {
   "cell_type": "code",
   "execution_count": 541,
   "metadata": {},
   "outputs": [],
   "source": [
    "import numpy as np\n",
    "import random"
   ]
  },
  {
   "cell_type": "markdown",
   "metadata": {},
   "source": [
    "## Game State"
   ]
  },
  {
   "cell_type": "code",
   "execution_count": 435,
   "metadata": {},
   "outputs": [],
   "source": [
    "state = np.zeros(28)"
   ]
  },
  {
   "cell_type": "markdown",
   "metadata": {},
   "source": [
    "## Game Start\n",
    "Places the pieces for the start of the game. I am going based on image in the repo, so I will cal player 1 blue, and player 2 red. "
   ]
  },
  {
   "cell_type": "code",
   "execution_count": 436,
   "metadata": {},
   "outputs": [],
   "source": [
    "def init_state():\n",
    "    \"\"\"\n",
    "    Retruns a new game state array for the start of a game\n",
    "    \"\"\"\n",
    "    state = np.zeros(28)\n",
    "    \n",
    "    # Place player one\n",
    "    state[0] = 2\n",
    "    state[11] = 5\n",
    "    state[16] = 3\n",
    "    state[18] = 5\n",
    "    \n",
    "    # Place player two\n",
    "    state[5] = -5\n",
    "    state[7] = -3\n",
    "    state[12] = -5\n",
    "    state[23] = -2\n",
    "    \n",
    "    return state"
   ]
  },
  {
   "cell_type": "code",
   "execution_count": 437,
   "metadata": {},
   "outputs": [],
   "source": [
    "def pretty_print(board):\n",
    "    \"\"\"\n",
    "    Prints a nicer version of the game state to look\n",
    "    like the board\n",
    "    \"\"\"\n",
    "    string = \"\"\n",
    "    \n",
    "    # Do the top of the board\n",
    "    string += np.array2string(board[12:24]) + '\\n'\n",
    "    \n",
    "    # Do the bottom of the board\n",
    "    string += np.array2string(np.flip(board[0:12])) + '\\n'\n",
    "    \n",
    "    # Show the bar\n",
    "    string += 'Bar: ' + np.array2string(board[24:26]) + \"\\n\"\n",
    "    \n",
    "    # Show the end\n",
    "    string += 'End: ' + np.array2string(board[26:])\n",
    "    \n",
    "    print(\"Board:\")\n",
    "    print(string)"
   ]
  },
  {
   "cell_type": "code",
   "execution_count": 438,
   "metadata": {},
   "outputs": [
    {
     "name": "stdout",
     "output_type": "stream",
     "text": [
      "Board:\n",
      "[-5.  0.  0.  0.  3.  0.  5.  0.  0.  0.  0. -2.]\n",
      "[ 5.  0.  0.  0. -3.  0. -5.  0.  0.  0.  0.  2.]\n",
      "Bar: [0. 0.]\n",
      "End: [0. 0.]\n"
     ]
    }
   ],
   "source": [
    "# Test it out\n",
    "pretty_print(init_state())"
   ]
  },
  {
   "cell_type": "markdown",
   "metadata": {},
   "source": [
    "Now we need a way to update the game state, this will assume that the move being requested is legal. This function will take in the board, the position from which a chip is to be moved, and the position to which it is to be moved. "
   ]
  },
  {
   "cell_type": "code",
   "execution_count": 744,
   "metadata": {},
   "outputs": [],
   "source": [
    "def update_board(board, start, end):\n",
    "    \"\"\"\n",
    "    Takes in a game state board array, the \n",
    "    index of a chip we would like to move, and\n",
    "    the index of where we would like it to end up\n",
    "    **This function does __not__ check if the \n",
    "    requested move is legal\n",
    "    \n",
    "    Returns the updated game state array\n",
    "    \"\"\"\n",
    "    # Determine which player we are dealing with\n",
    "    if (board[start] < 0):\n",
    "        player = 'neg'\n",
    "    elif (board[start] > 0):\n",
    "        player = 'pos'\n",
    "    else:\n",
    "        raise ValueError(\"Moving from a place with no chips\")\n",
    "        \n",
    "    \n",
    "    # Update start and end positions\n",
    "    if (player == 'pos'):\n",
    "        board[start] -= 1\n",
    "        \n",
    "        # Check case we are sending a piece to the bar\n",
    "        if (board[end] == -1):\n",
    "            board[end] = 1\n",
    "            board[25] -= 1\n",
    "        else:\n",
    "            # standard move\n",
    "            board[end] += 1\n",
    "            \n",
    "    else:\n",
    "        board[start] += 1\n",
    "        \n",
    "        # Check case we are sending piece to bar\n",
    "        if (board[end] == 1):\n",
    "            board[end] = -1\n",
    "            board[24] += 1\n",
    "        else:\n",
    "            # standard move\n",
    "            board[end] -= 1\n",
    "        \n",
    "    return board"
   ]
  },
  {
   "cell_type": "markdown",
   "metadata": {},
   "source": [
    "# Moves\n",
    "Gives a game state (assuming for now that we are always playing as player one ($>0$), how can we decide on what all our possible moves are given the dice roll."
   ]
  },
  {
   "cell_type": "code",
   "execution_count": 440,
   "metadata": {},
   "outputs": [],
   "source": [
    "def roll():\n",
    "    \"\"\"\n",
    "    Returns dice roll values, will be an array of size either 2 or four\n",
    "    indicating the number of moves that can be made (four if doubles)\n",
    "    \"\"\"\n",
    "    # Roll\n",
    "    roll = np.random.randint(1, 7, 2)\n",
    "    \n",
    "    # Check for doubles\n",
    "    if (roll[0] == roll[1]):\n",
    "        roll = np.concatenate([roll, roll])\n",
    "    \n",
    "    return roll"
   ]
  },
  {
   "cell_type": "markdown",
   "metadata": {},
   "source": [
    "Now that we have available the number of moves, we need to figure out what can be done with them. Lets start by just taking a single number, i.e. the first dice number, and see if we can find the legal moves there. \n",
    "\n",
    "The first thing that will need to be checked is if there is a piece at the bar. If so, we need to try to move him in.\n",
    "\n",
    "The other edge case is if the greatest position (again we are just thinking of playe 1) is in the last quadrant."
   ]
  },
  {
   "cell_type": "code",
   "execution_count": 441,
   "metadata": {},
   "outputs": [],
   "source": [
    "# Start a new game\n",
    "board = init_state()"
   ]
  },
  {
   "cell_type": "code",
   "execution_count": 442,
   "metadata": {},
   "outputs": [],
   "source": [
    "def flip_board(board):\n",
    "    \"\"\"\n",
    "    Returns a copy of the game board with the points\n",
    "    and values flipped to it always looks like player\n",
    "    one is playing\n",
    "    \"\"\"\n",
    "    idx = np.concatenate([np.arange(23, -1, -1), [24, 25, 26, 27]])\n",
    "    copy = np.copy(board)\n",
    "    copy = copy[idx]\n",
    "    return copy"
   ]
  },
  {
   "cell_type": "code",
   "execution_count": 850,
   "metadata": {},
   "outputs": [],
   "source": [
    "def flip_board(board):\n",
    "\t\"\"\"\n",
    "\tReturns a copy of the game board with the points\n",
    "\tand values flipped to it always looks like player\n",
    "\tone is playing\n",
    "\t\"\"\"\n",
    "\t# Copy the board\n",
    "\tcopy = np.copy(board)\n",
    "\n",
    "\t# Swap playing spots\n",
    "\tidx = np.concatenate([np.arange(23, -1, -1), [24, 25, 26, 27]])\n",
    "\tcopy = copy[idx]\n",
    "\n",
    "\t# Swap bar and end\n",
    "\tidx = np.concatenate([np.arange(0, 24, 1), [25, 24, 27, 26]])\n",
    "\tcopy = copy[idx]\n",
    "\n",
    "\t# Change signs\n",
    "\tcopy = -1 * copy\n",
    "\n",
    "\treturn copy"
   ]
  },
  {
   "cell_type": "code",
   "execution_count": 861,
   "metadata": {},
   "outputs": [],
   "source": [
    "def flip_moves(moves):\n",
    "\t\"\"\"\n",
    "\tFlips the moves that are otherwise from the perspective\n",
    "\tof player 1 to player 2\n",
    "\tSwaps the bar and end spaces\n",
    "\t\"\"\"\n",
    "\t# print(\"Moves to flip\", moves)\n",
    "\tnew_moves = []\n",
    "\tfor m in moves:\n",
    "\t\tmove = []\n",
    "\t\tfor p in m:\n",
    "\t\t\t# If normal game play space\n",
    "\t\t\tif (p <= 23):\n",
    "\t\t\t\tp1 = 23 - p\n",
    "\t\t\t# Special space, so swap it\n",
    "\t\t\telse:\n",
    "\t\t\t\tif (p == 24):\n",
    "\t\t\t\t\tp1 = 25\n",
    "\t\t\t\telif (p == 25):\n",
    "\t\t\t\t\tp1 = 24\n",
    "\t\t\t\telif (p == 26):\n",
    "\t\t\t\t\tp1 = 27\n",
    "\t\t\t\telse:\n",
    "\t\t\t\t\tp1 = 27\n",
    "\n",
    "\t\t\tmove.append(p1)\n",
    "\n",
    "\t\tnew_moves.append(move)\n",
    "\treturn new_moves"
   ]
  },
  {
   "cell_type": "code",
   "execution_count": 960,
   "metadata": {},
   "outputs": [],
   "source": [
    "def get_possible_moves(board, val, player):\n",
    "    \"\"\"\n",
    "    Returns an array of tuples that are the possible moves\n",
    "    for player 1 based on a given game board and\n",
    "    the roll of a single value\n",
    "    \"\"\"\n",
    "    # Copy the board\n",
    "    bc = np.copy(board)\n",
    "\n",
    "    # Set the board constants\n",
    "    last_quad_start = 18\n",
    "    bar = 24\n",
    "    end_holder = 26\n",
    "\n",
    "    if (player == \"player 2\"):\n",
    "        bc = flip_board(bc)\n",
    "#         print(\"Flipped Board\")\n",
    "#         pretty_print(bc)\n",
    "\n",
    "    # Initialize move tracker\n",
    "    possible_moves = []\n",
    "\n",
    "    # Check if at the bar\n",
    "    if (bc[bar] > 0):\n",
    "#         print(\"got one at the bar\")\n",
    "#         print(bc[val-1])\n",
    "        if bc[val-1] >= -1:\n",
    "            possible_moves.append([bar, val-1])\n",
    "\n",
    "    # None at the bar\n",
    "    else:\n",
    "        # get our inds\n",
    "        our_inds = np.where(bc[0:24] > 0)[0] # as we don't want to consider end game state\n",
    "        if (len(our_inds) == 0):\n",
    "            return possible_moves\n",
    "\n",
    "        # Check if last quadrant\n",
    "        if (np.min(our_inds) >= last_quad_start):\n",
    "            last_quad = True\n",
    "        else:\n",
    "            last_quad = False\n",
    "\n",
    "        # Check possible chips to move\n",
    "        for ind in our_inds:\n",
    "            if (ind + val < 24): # note, other player moves in other direciton\n",
    "                # legal, non chip removal move\n",
    "                if (bc[ind + val] >= -1):\n",
    "                    possible_moves.append([ind, ind+val])\n",
    "            else:\n",
    "                if (last_quad):\n",
    "                    # then we can remove this piece\n",
    "                    possible_moves.append([ind, end_holder])\n",
    "\n",
    "    # Check if we need to flip the moves\n",
    "    if (player == \"player 2\"):\n",
    "#         print(\"Pre flipped moves:\", possible_moves)\n",
    "        possible_moves = flip_moves(possible_moves)\n",
    "\n",
    "    return possible_moves\n"
   ]
  },
  {
   "cell_type": "code",
   "execution_count": 961,
   "metadata": {},
   "outputs": [
    {
     "data": {
      "text/plain": [
       "[]"
      ]
     },
     "execution_count": 961,
     "metadata": {},
     "output_type": "execute_result"
    }
   ],
   "source": [
    "get_possible_moves(b, 4, \"player 2\")"
   ]
  },
  {
   "cell_type": "markdown",
   "metadata": {},
   "source": [
    "### Test Cases"
   ]
  },
  {
   "cell_type": "code",
   "execution_count": 863,
   "metadata": {},
   "outputs": [],
   "source": [
    "def check_moves(m1,  m2):\n",
    "    \"\"\"\n",
    "    Takes in two move arrays and \n",
    "    returns if they are the same or not\n",
    "    \"\"\"\n",
    "    if (len(m1) != len(m2)):\n",
    "        return False\n",
    "    for m in m1:\n",
    "        if not (m in m2):\n",
    "            return False\n",
    "    return True"
   ]
  },
  {
   "cell_type": "code",
   "execution_count": 864,
   "metadata": {},
   "outputs": [],
   "source": [
    "# Test someone at the bar\n",
    "board = init_state()\n",
    "board[24] = 1\n",
    "moves = get_possible_moves(board, 1, \"player 1\")\n",
    "assert(moves == [[24, 0]])"
   ]
  },
  {
   "cell_type": "code",
   "execution_count": 865,
   "metadata": {},
   "outputs": [],
   "source": [
    "# Test Standard move\n",
    "board = init_state()\n",
    "moves = get_possible_moves(board, 1, \"player 1\")\n",
    "assert(check_moves(moves, [[0, 1], [16, 17], [18, 19]]))"
   ]
  },
  {
   "cell_type": "code",
   "execution_count": 866,
   "metadata": {},
   "outputs": [],
   "source": [
    "# Test Bigger move\n",
    "board = init_state()\n",
    "moves = get_possible_moves(board, 5, \"player 1\")\n",
    "assert(check_moves(moves, [[11, 16], [16, 21]]))"
   ]
  },
  {
   "cell_type": "code",
   "execution_count": 867,
   "metadata": {},
   "outputs": [
    {
     "name": "stdout",
     "output_type": "stream",
     "text": [
      "[[16, 22]]\n"
     ]
    }
   ],
   "source": [
    "# Test most in last quadrant except one\n",
    "board = init_state()\n",
    "board[0] = 0\n",
    "board[11] = 0\n",
    "board[16] = 1\n",
    "board[18] = 0\n",
    "board[19] = 5\n",
    "board[20] = 5\n",
    "moves = get_possible_moves(board, 6, \"player 1\")\n",
    "print(moves)\n",
    "assert(check_moves(moves, [[16, 22]]))"
   ]
  },
  {
   "cell_type": "code",
   "execution_count": 868,
   "metadata": {},
   "outputs": [
    {
     "name": "stdout",
     "output_type": "stream",
     "text": [
      "[[22, 26]]\n"
     ]
    }
   ],
   "source": [
    "# Test all in last quadrant, ready to move\n",
    "board = init_state()\n",
    "board[0] = 0\n",
    "board[11] = 0\n",
    "board[16] = 0\n",
    "board[18] = 0\n",
    "board[22] = 5\n",
    "moves = get_possible_moves(board, 2, \"player 1\")\n",
    "print(moves)\n",
    "assert(check_moves(moves, [[22, 26]]))"
   ]
  },
  {
   "cell_type": "code",
   "execution_count": 869,
   "metadata": {},
   "outputs": [
    {
     "name": "stdout",
     "output_type": "stream",
     "text": [
      "[[22, 26]]\n"
     ]
    }
   ],
   "source": [
    "# Another end state test with bigger roll\n",
    "board = init_state()\n",
    "board[0] = 0\n",
    "board[11] = 0\n",
    "board[16] = 0\n",
    "board[18] = 0\n",
    "board[22] = 5\n",
    "moves = get_possible_moves(board, 5, \"player 1\")\n",
    "print(moves)\n",
    "assert(check_moves(moves, [[22, 26]]))"
   ]
  },
  {
   "cell_type": "code",
   "execution_count": 870,
   "metadata": {},
   "outputs": [
    {
     "name": "stdout",
     "output_type": "stream",
     "text": [
      "[[0, 5], [11, 16], [16, 21]]\n"
     ]
    }
   ],
   "source": [
    "# Test allowed to send an opponent to bar\n",
    "board = init_state()\n",
    "board[5] = -1\n",
    "moves = get_possible_moves(board, 5, \"player 1\")\n",
    "print(moves)\n",
    "assert(check_moves(moves, [[0, 5], [11, 16], [16, 21]]))"
   ]
  },
  {
   "cell_type": "markdown",
   "metadata": {},
   "source": [
    "#### Do some test for player 2"
   ]
  },
  {
   "cell_type": "code",
   "execution_count": 871,
   "metadata": {},
   "outputs": [
    {
     "name": "stdout",
     "output_type": "stream",
     "text": [
      "[[23, 20], [12, 9], [7, 4], [5, 2]]\n"
     ]
    }
   ],
   "source": [
    "# Test standard player two move\n",
    "board = init_state()\n",
    "moves = get_possible_moves(board, 3, \"player 2\")\n",
    "print(moves)\n",
    "assert(check_moves(moves, [[23, 20], [12, 9], [7, 4], [5, 2]]))"
   ]
  },
  {
   "cell_type": "code",
   "execution_count": 874,
   "metadata": {},
   "outputs": [
    {
     "name": "stdout",
     "output_type": "stream",
     "text": [
      "[[25, 23]]\n",
      "[[24, 0]]\n"
     ]
    }
   ],
   "source": [
    "# Test someone at the bar\n",
    "board = init_state()\n",
    "board[25] = -1\n",
    "moves = get_possible_moves(board, 1, \"player 2\")\n",
    "print(moves)\n",
    "print(flip_moves(moves))\n",
    "assert(moves == [[25, 23]])"
   ]
  },
  {
   "cell_type": "code",
   "execution_count": 876,
   "metadata": {},
   "outputs": [
    {
     "name": "stdout",
     "output_type": "stream",
     "text": [
      "[]\n"
     ]
    }
   ],
   "source": [
    "# Case when there are no possible moves for player 2\n",
    "board = init_state()\n",
    "board[23] = 0\n",
    "board[12] = 0\n",
    "# board[5] = 0\n",
    "board[7] = 0\n",
    "moves = get_possible_moves(board, 5, \"player 2\")\n",
    "print(moves)\n",
    "assert(moves == [])"
   ]
  },
  {
   "cell_type": "code",
   "execution_count": 877,
   "metadata": {},
   "outputs": [
    {
     "name": "stdout",
     "output_type": "stream",
     "text": [
      "[[5, 27]]\n"
     ]
    }
   ],
   "source": [
    "# Player 2 end game affirmative\n",
    "board = init_state()\n",
    "board[23] = 0\n",
    "board[12] = 0\n",
    "# board[5] = 0\n",
    "board[7] = 0\n",
    "moves = get_possible_moves(board, 6, \"player 2\")\n",
    "print(moves)\n",
    "assert(check_moves(moves, [[5, 27]]))"
   ]
  },
  {
   "cell_type": "code",
   "execution_count": 878,
   "metadata": {},
   "outputs": [
    {
     "name": "stdout",
     "output_type": "stream",
     "text": [
      "[[23, 17]]\n"
     ]
    }
   ],
   "source": [
    "# Player 2 end game negative, but close\n",
    "board = init_state()\n",
    "board[23] = -1\n",
    "board[22] = 0\n",
    "board[12] = 0\n",
    "# board[5] = 0\n",
    "board[7] = 0\n",
    "moves = get_possible_moves(board, 6, \"player 2\")\n",
    "print(moves)\n",
    "assert(check_moves(moves, [[23, 17]]))"
   ]
  },
  {
   "cell_type": "code",
   "execution_count": 879,
   "metadata": {},
   "outputs": [],
   "source": [
    "# Player 2, but game is already over\n",
    "board = init_state()\n",
    "board[5] = 0\n",
    "board[7] = 0\n",
    "board[12] = 0\n",
    "board[23] = 0\n",
    "board[27] = -15\n",
    "moves = get_possible_moves(board, 3, \"player 2\")\n",
    "assert(check_moves(moves, []))"
   ]
  },
  {
   "cell_type": "code",
   "execution_count": 880,
   "metadata": {},
   "outputs": [
    {
     "data": {
      "text/plain": [
       "[]"
      ]
     },
     "execution_count": 880,
     "metadata": {},
     "output_type": "execute_result"
    }
   ],
   "source": [
    "get_all_moves(board, [2,3], \"player 2\")"
   ]
  },
  {
   "cell_type": "markdown",
   "metadata": {},
   "source": [
    "## Add in the second dice!\n",
    "Now we need the logic to get all possible moves when there are two dice at play, and the possibility of rolling doubles, which means you get four total values. What are the scenarios we have to consider. First, most basic, that we get two distinct numbers, next we need to consider if we get doubles. \n",
    "\n",
    "First case, we want to consider using val 1 then val 2, and val 2 then val 1. In the doubles case we just need to get the four sequentials"
   ]
  },
  {
   "cell_type": "code",
   "execution_count": 881,
   "metadata": {},
   "outputs": [],
   "source": [
    "def get_all_moves(board, vals, player):\n",
    "    \"\"\"\n",
    "    Takes in a game board, the dice array\n",
    "    and a string indicating which player we are dealign with\n",
    "    and returns an array of the possible moves\n",
    "    \"\"\"\n",
    "    # Initialize move tracker\n",
    "    moves = []\n",
    "    \n",
    "    # If not doubles\n",
    "    if (len(vals) == 2):\n",
    "        # Try val 1 then val 2-----------------------------------------------------\n",
    "        possible_first_moves = get_possible_moves(board, vals[0], player)\n",
    "\n",
    "        # For each of the possible first moves, get the seoncd\n",
    "        for m in possible_first_moves:\n",
    "            # Get the new board state\n",
    "            tmp_board = np.copy(board)\n",
    "            tmp_board = update_board(tmp_board, m[0], m[1])\n",
    "            possible_second_moves = get_possible_moves(tmp_board, vals[1], player)\n",
    "\n",
    "            # Keep track of each of the second state moves\n",
    "            if (len(possible_second_moves) == 0): moves.append([m]) # in case no second move\n",
    "            for m2 in possible_second_moves:\n",
    "                moves.append([m, m2])\n",
    "\n",
    "        # Try val 2 then val 1-----------------------------------------------------\n",
    "        possible_first_moves = get_possible_moves(board, vals[1], player)\n",
    "\n",
    "        for m in possible_first_moves:\n",
    "            # Get the new board state\n",
    "            tmp_board = np.copy(board)\n",
    "            tmp_board = update_board(tmp_board, m[0], m[1])\n",
    "            possible_second_moves = get_possible_moves(tmp_board, vals[0], player)\n",
    "\n",
    "            # Keep track of each of the second state moves\n",
    "            if (len(possible_second_moves) == 0): moves.append([m]) # in case no second move\n",
    "            for m2 in possible_second_moves:\n",
    "                moves.append([m, m2])\n",
    "\n",
    "    # Else, is doubles\n",
    "    else:\n",
    "        for m in get_possible_moves(board, vals[0], player):\n",
    "            tb1 = update_board(np.copy(board), m[0], m[1])\n",
    "            second_moves = get_possible_moves(tb1, vals[1], player)\n",
    "            if (len(second_moves) == 0): moves.append([m])\n",
    "            \n",
    "            for m2 in second_moves:\n",
    "                tb2 = update_board(np.copy(tb1), m2[0], m2[1])\n",
    "                third_moves = get_possible_moves(np.copy(tb2), vals[2], player)\n",
    "                if (len(third_moves) == 0): moves.append([m, m2])\n",
    "                \n",
    "                for m3 in third_moves:\n",
    "                    tb3 = update_board(np.copy(tb2), m3[0], m3[1])\n",
    "                    fourth_moves = get_possible_moves(np.copy(tb3), vals[3], player)\n",
    "                    if (len(fourth_moves) == 0): moves.append([m, m2, m3])\n",
    "                    \n",
    "                    for m4 in fourth_moves:\n",
    "                        moves.append([m, m2, m3, m4]) \n",
    "                        \n",
    "    return moves"
   ]
  },
  {
   "cell_type": "code",
   "execution_count": 882,
   "metadata": {},
   "outputs": [
    {
     "data": {
      "text/plain": [
       "[[[3, 0], [2, 0]],\n",
       " [[3, 0], [1, 27]],\n",
       " [[3, 0], [0, 27]],\n",
       " [[2, 27], [3, 1]],\n",
       " [[2, 27], [1, 27]],\n",
       " [[1, 27], [3, 1]],\n",
       " [[1, 27], [2, 0]],\n",
       " [[1, 27], [1, 27]],\n",
       " [[3, 1], [2, 27]],\n",
       " [[3, 1], [1, 27]],\n",
       " [[2, 0], [3, 0]],\n",
       " [[2, 0], [1, 27]],\n",
       " [[2, 0], [0, 27]],\n",
       " [[1, 27], [3, 0]],\n",
       " [[1, 27], [2, 27]],\n",
       " [[1, 27], [1, 27]]]"
      ]
     },
     "execution_count": 882,
     "metadata": {},
     "output_type": "execute_result"
    }
   ],
   "source": [
    "get_all_moves(b, vals, 'player 2')"
   ]
  },
  {
   "cell_type": "code",
   "execution_count": 883,
   "metadata": {},
   "outputs": [
    {
     "name": "stdout",
     "output_type": "stream",
     "text": [
      "Board:\n",
      "[0. 0. 0. 0. 0. 0. 0. 0. 0. 0. 0. 0.]\n",
      "[ 0.  0.  0.  0.  0.  0.  0.  0. -1. -1. -4.  0.]\n",
      "Bar: [0. 0.]\n",
      "End: [15. -9.]\n"
     ]
    }
   ],
   "source": [
    "pretty_print(b)"
   ]
  },
  {
   "cell_type": "code",
   "execution_count": null,
   "metadata": {},
   "outputs": [],
   "source": []
  },
  {
   "cell_type": "code",
   "execution_count": null,
   "metadata": {},
   "outputs": [],
   "source": []
  },
  {
   "cell_type": "markdown",
   "metadata": {},
   "source": [
    "# Play a Game!\n",
    "There is one last thing we need to be able to do before we can play a game. We need to be able to update the board with multiple moves at a time. I.e., give a board, an move list, and then get the new board back.\n",
    "\n",
    "Once we have that we have all the mechanics for a game, the last big barrier will be to determien when the game is actually finished"
   ]
  },
  {
   "cell_type": "code",
   "execution_count": 884,
   "metadata": {},
   "outputs": [],
   "source": [
    "def update_by_moves(board, moves):\n",
    "    \"\"\"\n",
    "    Takes in a board an a list of moves, and returns\n",
    "    the updated version of the board\n",
    "    \"\"\"\n",
    "    # Copy the board\n",
    "    board = np.copy(board)\n",
    "    \n",
    "    # For each move, update board\n",
    "    for m in moves:\n",
    "        board = update_board(board, m[0], m[1])\n",
    "        \n",
    "    return board"
   ]
  },
  {
   "cell_type": "markdown",
   "metadata": {},
   "source": [
    "Before we play a game we need the concept of a player. Something that will look at the board the dice rolled and decide what to do next. For now, we will make a naive player that makes random, legal, moves"
   ]
  },
  {
   "cell_type": "code",
   "execution_count": 885,
   "metadata": {},
   "outputs": [],
   "source": [
    "class Player(object):\n",
    "    def __init__(self, which):\n",
    "        # player 1 or player 2\n",
    "        self.which = which\n",
    "        \n",
    "    def __str__(self):\n",
    "        return self.which\n",
    "    \n",
    "    def __repr__(self):\n",
    "        return self.which\n",
    "        \n",
    "    def action(self, board, vals):\n",
    "        \"\"\"\n",
    "        Takes in the board state and the value of the\n",
    "        dice rolled, and returns the desired move\n",
    "        \"\"\"\n",
    "        # get all the moves\n",
    "        all_moves = get_all_moves(board, vals, self.which)\n",
    "        \n",
    "        # Randomly pick one\n",
    "        if (len(all_moves) == 0):\n",
    "            move = []\n",
    "        else:\n",
    "            move = random.choice(all_moves)\n",
    "        \n",
    "        return move"
   ]
  },
  {
   "cell_type": "markdown",
   "metadata": {},
   "source": [
    "Now we can play the game with two random players. "
   ]
  },
  {
   "cell_type": "code",
   "execution_count": 886,
   "metadata": {},
   "outputs": [],
   "source": [
    "def play_game(p1, p2):\n",
    "    \"\"\"\n",
    "    Runs through a game with the given players\n",
    "    Returns the player who won\n",
    "    \n",
    "    At some point, for training, we are going to have to figure out\n",
    "    if we wnat to keep track of the boards\n",
    "    that each player saw individually\n",
    "    \"\"\"\n",
    "    # Initialize a board\n",
    "    board = init_state()\n",
    "    board_tracker = [board] # list of boards\n",
    "\n",
    "    # Initialize players\n",
    "    # p1 = Player(\"player 1\")\n",
    "    # p2 = Player(\"player 2\")\n",
    "\n",
    "    # Roll the first to decide who goes first\n",
    "    not_same = True\n",
    "    while not_same:\n",
    "        vals = roll()\n",
    "        not_same = True if (len(vals) != 2) else False\n",
    "\n",
    "    if (vals[0] > vals[1]):\n",
    "        player = p1\n",
    "    else:\n",
    "        player = p2\n",
    "\n",
    "    # Game loop\n",
    "    game_over = False\n",
    "    i = 0\n",
    "    while not game_over:\n",
    "        i += 1\n",
    "\n",
    "        # Get players move\n",
    "        next_move = player.action(board, vals)\n",
    "\n",
    "        # Update the board\n",
    "        board = update_by_moves(board, next_move)\n",
    "        board_tracker.append(board)\n",
    "\n",
    "        # Roll the dice\n",
    "        vals = roll()\n",
    "\n",
    "        # Switch player\n",
    "        player = p2 if (player == p1) else p1\n",
    "\n",
    "        # Check if the game is over\n",
    "        if (board[26] >= 15. or board[27] <= -15.):\n",
    "            game_over = True\n",
    "\n",
    "        if (i >= 10000):\n",
    "            print(\"PROBLEM\")\n",
    "            game_over = True\n",
    "        \n",
    "    # Now that the game is over determine the winner\n",
    "    winner = p1 if (board[26] == 15) else p2\n",
    "    obj = {'winner': winner, 'turns': i}\n",
    "    \n",
    "    return obj"
   ]
  },
  {
   "cell_type": "code",
   "execution_count": 964,
   "metadata": {},
   "outputs": [
    {
     "name": "stdout",
     "output_type": "stream",
     "text": [
      "player 2\n",
      "turns 51\n",
      "player 2\n"
     ]
    }
   ],
   "source": [
    "np.random.seed(0)\n",
    "\n",
    "p1 = Player(\"player 1\")\n",
    "p2 = Player(\"player 2\")\n",
    "\n",
    "# Initialize a board\n",
    "board = init_state()\n",
    "board_tracker = [board] # list of boards\n",
    "roll_tracker = []\n",
    "move_tracker = []\n",
    "\n",
    "not_same = True\n",
    "while not_same:\n",
    "    vals = roll()\n",
    "    not_same = True if (len(vals) != 2) else False\n",
    "\n",
    "if (vals[0] > vals[1]):\n",
    "    starting_player = p1\n",
    "    player = p1\n",
    "else:\n",
    "    starting_player = p2\n",
    "    player = p2\n",
    "\n",
    "roll_tracker.append(vals)\n",
    "\n",
    "# Game loop\n",
    "game_over = False\n",
    "i = 0\n",
    "while not game_over:\n",
    "    i += 1\n",
    "\n",
    "    # Get players move\n",
    "    next_move = player.action(board, vals)\n",
    "    move_tracker.append(next_move)\n",
    "\n",
    "    # Update the board\n",
    "    board = update_by_moves(board, next_move)\n",
    "    board_tracker.append(board)\n",
    "\n",
    "    # Roll the dice\n",
    "    vals = roll()\n",
    "    roll_tracker.append(vals)\n",
    "\n",
    "    # Switch player\n",
    "    player = p2 if (player == p1) else p1\n",
    "\n",
    "    # Check if the game is over\n",
    "    if (board[26] >= 15. or board[27] <= -15.):\n",
    "        game_over = True\n",
    "\n",
    "\n",
    "    if (i >= 10000):\n",
    "        print(\"PROBLEM\")\n",
    "        game_over = True\n",
    "\n",
    "# Now that the game is over determine the winner\n",
    "winner = p1 if (board[26] == 15) else p2\n",
    "obj = {'winner': winner, 'turns': i, 'starting_player':starting_player, \"rolls\": roll_tracker}\n",
    "\n",
    "# print(obj)\n",
    "print(winner)\n",
    "print(\"turns\", i)\n",
    "print(starting_player)"
   ]
  },
  {
   "cell_type": "code",
   "execution_count": 929,
   "metadata": {},
   "outputs": [
    {
     "name": "stdout",
     "output_type": "stream",
     "text": [
      "i: 34\n",
      "p1 sum: 15.0\n",
      "p2 sum: -15.0\n",
      "move: [[25, 20], [17, 14]]\n",
      "Roll: [3 4]\n",
      "Board:\n",
      "[ 1.  2.  0.  0.  0. -3.  2.  0.  2.  0.  5. -1.]\n",
      "[ 0.  0.  0.  0.  1.  0. -4.  0.  0.  2. -6.  0.]\n",
      "Bar: [ 0. -1.]\n",
      "End: [0. 0.]\n",
      "------------------------------\n",
      "i: 35\n",
      "p1 sum: 14.0\n",
      "p2 sum: -14.0\n",
      "move: [[7, 11], [2, 3]]\n",
      "Roll: [1 4]\n",
      "Board:\n",
      "[ 1.  2. -1.  0.  0. -2.  2.  0.  1.  0.  5. -1.]\n",
      "[ 0.  0.  0.  0.  1.  0. -4.  0.  0.  2. -6.  0.]\n",
      "Bar: [0. 0.]\n",
      "End: [0. 0.]\n",
      "------------------------------\n"
     ]
    }
   ],
   "source": [
    "i = 34\n",
    "b = board_tracker[i]\n",
    "print(\"i:\", i)\n",
    "print(\"p1 sum:\", b[np.where(b > 0)].sum())\n",
    "print(\"p2 sum:\", b[np.where(b < 0)].sum())\n",
    "print(\"move:\", move_tracker[i])\n",
    "print(\"Roll:\", roll_tracker[i])\n",
    "pretty_print(b)\n",
    "print(\"-\"*30)\n",
    "\n",
    "i += 1\n",
    "b = board_tracker[i]\n",
    "print(\"i:\", i)\n",
    "print(\"p1 sum:\", b[np.where(b > 0)].sum())\n",
    "print(\"p2 sum:\", b[np.where(b < 0)].sum())\n",
    "print(\"move:\", move_tracker[i])\n",
    "print(\"Roll:\", roll_tracker[i])\n",
    "pretty_print(b)\n",
    "print(\"-\"*30)"
   ]
  },
  {
   "cell_type": "code",
   "execution_count": 935,
   "metadata": {},
   "outputs": [],
   "source": [
    "b = np.copy(board_tracker[34])"
   ]
  },
  {
   "cell_type": "code",
   "execution_count": 936,
   "metadata": {},
   "outputs": [
    {
     "data": {
      "text/plain": [
       "[[25, 20]]"
      ]
     },
     "execution_count": 936,
     "metadata": {},
     "output_type": "execute_result"
    }
   ],
   "source": [
    "get_possible_moves(b, 4, \"player 2\")"
   ]
  },
  {
   "cell_type": "code",
   "execution_count": 959,
   "metadata": {},
   "outputs": [
    {
     "name": "stdout",
     "output_type": "stream",
     "text": [
      "Flipped Board\n",
      "Board:\n",
      "[-0. -0. -0. -0. -1. -0.  4. -0. -0. -2.  6. -0.]\n",
      "[-1. -2. -0. -0. -0.  3. -2. -0. -2. -0. -5.  1.]\n",
      "Bar: [ 1. -0.]\n",
      "End: [-0. -0.]\n",
      "got one at the bar\n",
      "-2.0\n",
      "Pre flipped moves: []\n",
      "Flipped Board\n",
      "Board:\n",
      "[-0. -0. -0. -0. -1. -0.  4. -0. -0. -2.  6. -0.]\n",
      "[-1. -2. -0. -0. -0.  3. -2. -0. -2. -0. -5.  1.]\n",
      "Bar: [ 1. -0.]\n",
      "End: [-0. -0.]\n",
      "got one at the bar\n",
      "-2.0\n",
      "Pre flipped moves: []\n"
     ]
    },
    {
     "data": {
      "text/plain": [
       "[]"
      ]
     },
     "execution_count": 959,
     "metadata": {},
     "output_type": "execute_result"
    }
   ],
   "source": [
    "get_all_moves(b, [4, 6], \"player 2\")"
   ]
  },
  {
   "cell_type": "code",
   "execution_count": null,
   "metadata": {},
   "outputs": [],
   "source": []
  },
  {
   "cell_type": "code",
   "execution_count": null,
   "metadata": {},
   "outputs": [],
   "source": []
  },
  {
   "cell_type": "code",
   "execution_count": null,
   "metadata": {},
   "outputs": [],
   "source": []
  },
  {
   "cell_type": "code",
   "execution_count": 928,
   "metadata": {
    "collapsed": true,
    "jupyter": {
     "outputs_hidden": true
    }
   },
   "outputs": [
    {
     "name": "stdout",
     "output_type": "stream",
     "text": [
      "i: 0\n",
      "p1 sum: 15.0\n",
      "p2 sum: -15.0\n",
      "Move: [[7, 1], [12, 7]]\n",
      "Roll: [5 6]\n",
      "Board:\n",
      "[-5.  0.  0.  0.  3.  0.  5.  0.  0.  0.  0. -2.]\n",
      "[ 5.  0.  0.  0. -3.  0. -5.  0.  0.  0.  0.  2.]\n",
      "Bar: [0. 0.]\n",
      "End: [0. 0.]\n",
      "------------------------------\n",
      "i: 1\n",
      "p1 sum: 15.0\n",
      "p2 sum: -15.0\n",
      "Move: [[16, 20], [20, 21]]\n",
      "Roll: [1 4]\n",
      "Board:\n",
      "[-4.  0.  0.  0.  3.  0.  5.  0.  0.  0.  0. -2.]\n",
      "[ 5.  0.  0.  0. -3.  0. -5.  0.  0.  0. -1.  2.]\n",
      "Bar: [0. 0.]\n",
      "End: [0. 0.]\n",
      "------------------------------\n",
      "i: 2\n",
      "p1 sum: 15.0\n",
      "p2 sum: -15.0\n",
      "Move: [[5, 1], [23, 19], [5, 1], [23, 19]]\n",
      "Roll: [4 4 4 4]\n",
      "Board:\n",
      "[-4.  0.  0.  0.  2.  0.  5.  0.  0.  1.  0. -2.]\n",
      "[ 5.  0.  0.  0. -3.  0. -5.  0.  0.  0. -1.  2.]\n",
      "Bar: [0. 0.]\n",
      "End: [0. 0.]\n",
      "------------------------------\n",
      "i: 3\n",
      "p1 sum: 15.0\n",
      "p2 sum: -15.0\n",
      "Move: [[18, 20], [18, 22]]\n",
      "Roll: [2 4]\n",
      "Board:\n",
      "[-4.  0.  0.  0.  2.  0.  5. -2.  0.  1.  0.  0.]\n",
      "[ 5.  0.  0.  0. -3.  0. -3.  0.  0.  0. -3.  2.]\n",
      "Bar: [0. 0.]\n",
      "End: [0. 0.]\n",
      "------------------------------\n",
      "i: 4\n",
      "p1 sum: 15.0\n",
      "p2 sum: -15.0\n",
      "Move: [[7, 4], [7, 1]]\n",
      "Roll: [6 3]\n",
      "Board:\n",
      "[-4.  0.  0.  0.  2.  0.  3. -2.  1.  1.  1.  0.]\n",
      "[ 5.  0.  0.  0. -3.  0. -3.  0.  0.  0. -3.  2.]\n",
      "Bar: [0. 0.]\n",
      "End: [0. 0.]\n",
      "------------------------------\n",
      "i: 5\n",
      "p1 sum: 15.0\n",
      "p2 sum: -15.0\n",
      "Move: [[11, 16], [21, 22]]\n",
      "Roll: [5 1]\n",
      "Board:\n",
      "[-4.  0.  0.  0.  2.  0.  3. -2.  1.  1.  1.  0.]\n",
      "[ 5.  0.  0.  0. -1.  0. -3. -1.  0.  0. -4.  2.]\n",
      "Bar: [0. 0.]\n",
      "End: [0. 0.]\n",
      "------------------------------\n",
      "i: 6\n",
      "p1 sum: 15.0\n",
      "p2 sum: -15.0\n",
      "Move: [[12, 7], [7, 6]]\n",
      "Roll: [1 5]\n",
      "Board:\n",
      "[-4.  0.  0.  0.  3.  0.  3. -2.  1.  0.  2.  0.]\n",
      "[ 4.  0.  0.  0. -1.  0. -3. -1.  0.  0. -4.  2.]\n",
      "Bar: [0. 0.]\n",
      "End: [0. 0.]\n",
      "------------------------------\n",
      "i: 7\n",
      "p1 sum: 15.0\n",
      "p2 sum: -15.0\n",
      "Move: [[0, 3], [11, 13]]\n",
      "Roll: [3 2]\n",
      "Board:\n",
      "[-3.  0.  0.  0.  3.  0.  3. -2.  1.  0.  2.  0.]\n",
      "[ 4.  0.  0.  0. -1. -1. -3. -1.  0.  0. -4.  2.]\n",
      "Bar: [0. 0.]\n",
      "End: [0. 0.]\n",
      "------------------------------\n",
      "i: 8\n",
      "p1 sum: 15.0\n",
      "p2 sum: -15.0\n",
      "Move: [[12, 10], [6, 5]]\n",
      "Roll: [1 2]\n",
      "Board:\n",
      "[-3.  1.  0.  0.  3.  0.  3. -2.  1.  0.  2.  0.]\n",
      "[ 3.  0.  0.  0. -1. -1. -3. -1.  1.  0. -4.  1.]\n",
      "Bar: [0. 0.]\n",
      "End: [0. 0.]\n",
      "------------------------------\n",
      "i: 9\n",
      "p1 sum: 15.0\n",
      "p2 sum: -15.0\n",
      "Move: [[20, 22], [0, 6]]\n",
      "Roll: [6 2]\n",
      "Board:\n",
      "[-2.  1.  0.  0.  3.  0.  3. -2.  1.  0.  2.  0.]\n",
      "[ 3. -1.  0.  0. -1.  0. -4. -1.  1.  0. -4.  1.]\n",
      "Bar: [0. 0.]\n",
      "End: [0. 0.]\n",
      "------------------------------\n",
      "i: 10\n",
      "p1 sum: 15.0\n",
      "p2 sum: -15.0\n",
      "Move: [[10, 9], [9, 3]]\n",
      "Roll: [6 1]\n",
      "Board:\n",
      "[-2.  1.  0.  0.  3.  0.  3. -2.  0.  0.  3.  0.]\n",
      "[ 3. -1.  0.  0. -1.  1. -4. -1.  1.  0. -4.  0.]\n",
      "Bar: [0. 0.]\n",
      "End: [0. 0.]\n",
      "------------------------------\n",
      "i: 11\n",
      "p1 sum: 15.0\n",
      "p2 sum: -15.0\n",
      "Move: [[24, 4], [11, 13]]\n",
      "Roll: [2 5]\n",
      "Board:\n",
      "[-2.  1.  0.  0.  3.  0.  3. -2.  0.  0.  3.  0.]\n",
      "[ 3.  0.  0.  0. -1.  1. -4. -1. -1.  0. -4.  0.]\n",
      "Bar: [1. 0.]\n",
      "End: [0. 0.]\n",
      "------------------------------\n",
      "i: 12\n",
      "p1 sum: 15.0\n",
      "p2 sum: -15.0\n",
      "Move: [[25, 20], [3, 2]]\n",
      "Roll: [4 1]\n",
      "Board:\n",
      "[-2.  2.  0.  0.  3.  0.  3. -2.  0.  0.  3.  0.]\n",
      "[ 2.  0.  0.  0. -1.  1. -4.  1. -1.  0. -4.  0.]\n",
      "Bar: [ 0. -1.]\n",
      "End: [0. 0.]\n",
      "------------------------------\n",
      "i: 13\n",
      "p1 sum: 15.0\n",
      "p2 sum: -15.0\n",
      "Move: [[11, 17], [18, 22]]\n",
      "Roll: [4 6]\n",
      "Board:\n",
      "[-2.  2.  0.  0.  3.  0.  3. -2. -1.  0.  3.  0.]\n",
      "[ 2.  0.  0.  0. -1.  1. -4.  1.  0. -1. -4.  0.]\n",
      "Bar: [0. 0.]\n",
      "End: [0. 0.]\n",
      "------------------------------\n",
      "i: 14\n",
      "p1 sum: 15.0\n",
      "p2 sum: -15.0\n",
      "Move: [[20, 17], [12, 11]]\n",
      "Roll: [1 3]\n",
      "Board:\n",
      "[-2.  2.  0.  0.  3.  1.  2. -2. -1.  0.  4.  0.]\n",
      "[ 1.  0.  0.  0. -1.  1. -4.  1.  0. -1. -4.  0.]\n",
      "Bar: [0. 0.]\n",
      "End: [0. 0.]\n",
      "------------------------------\n",
      "i: 15\n",
      "p1 sum: 15.0\n",
      "p2 sum: -15.0\n",
      "Move: [[24, 0], [24, 3]]\n",
      "Roll: [4 1]\n",
      "Board:\n",
      "[-1.  2.  0.  0.  3. -1.  2. -2.  0.  0.  4.  0.]\n",
      "[-1.  0.  0.  0. -1.  1. -4.  1.  0. -1. -4.  0.]\n",
      "Bar: [2. 0.]\n",
      "End: [0. 0.]\n",
      "------------------------------\n",
      "i: 16\n",
      "p1 sum: 15.0\n",
      "p2 sum: -15.0\n",
      "Move: [[7, 3], [2, 0]]\n",
      "Roll: [2 4]\n",
      "Board:\n",
      "[-1.  2.  0.  0.  3. -1.  2. -2.  0.  0.  4.  0.]\n",
      "[-1.  0.  0.  0. -1.  1. -4.  1.  1. -1. -4.  1.]\n",
      "Bar: [0. 0.]\n",
      "End: [0. 0.]\n",
      "------------------------------\n",
      "i: 17\n",
      "p1 sum: 15.0\n",
      "p2 sum: -15.0\n",
      "Move: [[24, 3]]\n",
      "Roll: [6 4]\n",
      "Board:\n",
      "[-1.  2.  0.  0.  3. -1.  2. -2.  0.  0.  4.  0.]\n",
      "[-1.  0.  0.  0.  0.  1. -4.  1. -1.  0. -4. -1.]\n",
      "Bar: [2. 0.]\n",
      "End: [0. 0.]\n",
      "------------------------------\n",
      "i: 18\n",
      "p1 sum: 15.0\n",
      "p2 sum: -15.0\n",
      "Move: [[25, 23], [5, 1]]\n",
      "Roll: [4 1]\n",
      "Board:\n",
      "[-1.  2.  0.  0.  3. -1.  2. -2.  0.  0.  4.  0.]\n",
      "[-1.  0.  0.  0.  0.  1. -4.  1.  1.  0. -4. -1.]\n",
      "Bar: [ 1. -1.]\n",
      "End: [0. 0.]\n",
      "------------------------------\n",
      "i: 19\n",
      "p1 sum: 15.0\n",
      "p2 sum: -15.0\n",
      "Move: []\n",
      "Roll: [2 2 2 2]\n",
      "Board:\n",
      "[-1.  2.  0.  0.  3. -1.  2. -2.  0.  0.  4. -1.]\n",
      "[-1.  0.  0.  0.  0.  1. -3.  1.  1.  0. -5. -1.]\n",
      "Bar: [1. 0.]\n",
      "End: [0. 0.]\n",
      "------------------------------\n",
      "i: 20\n",
      "p1 sum: 15.0\n",
      "p2 sum: -15.0\n",
      "Move: [[17, 15], [15, 14]]\n",
      "Roll: [2 1]\n",
      "Board:\n",
      "[-1.  2.  0.  0.  3. -1.  2. -2.  0.  0.  4. -1.]\n",
      "[-1.  0.  0.  0.  0.  1. -3.  1.  1.  0. -5. -1.]\n",
      "Bar: [1. 0.]\n",
      "End: [0. 0.]\n",
      "------------------------------\n",
      "i: 21\n",
      "p1 sum: 15.0\n",
      "p2 sum: -15.0\n",
      "Move: [[24, 2], [6, 11]]\n",
      "Roll: [3 5]\n",
      "Board:\n",
      "[-1.  2. -1.  0.  3.  0.  2. -2.  0.  0.  4. -1.]\n",
      "[-1.  0.  0.  0.  0.  1. -3.  1.  1.  0. -5. -1.]\n",
      "Bar: [1. 0.]\n",
      "End: [0. 0.]\n",
      "------------------------------\n",
      "i: 22\n",
      "p1 sum: 15.0\n",
      "p2 sum: -15.0\n",
      "Move: [[25, 20], [5, 1], [12, 8], [19, 15]]\n",
      "Roll: [4 4 4 4]\n",
      "Board:\n",
      "[-1.  2. -1.  0.  3.  0.  2. -2.  0.  0.  4. -1.]\n",
      "[ 1.  0.  0.  0.  0.  0. -3.  1.  1.  1. -5. -1.]\n",
      "Bar: [ 0. -1.]\n",
      "End: [0. 0.]\n",
      "------------------------------\n",
      "i: 23\n",
      "p1 sum: 15.0\n",
      "p2 sum: -15.0\n",
      "Move: [[16, 21], [16, 19]]\n",
      "Roll: [3 5]\n",
      "Board:\n",
      "[ 0.  2. -1. -1.  3.  0.  2. -1. -1.  0.  4. -1.]\n",
      "[ 1.  0.  0. -1.  0.  0. -2.  1.  1.  1. -6. -1.]\n",
      "Bar: [0. 0.]\n",
      "End: [0. 0.]\n",
      "------------------------------\n",
      "i: 24\n",
      "p1 sum: 15.0\n",
      "p2 sum: -15.0\n",
      "Move: [[25, 23], [8, 5]]\n",
      "Roll: [3 1]\n",
      "Board:\n",
      "[ 0.  2. -1. -1.  1.  0.  2.  1. -1.  1.  4. -1.]\n",
      "[ 1.  0.  0. -1.  0.  0. -2.  1.  1.  1. -6. -1.]\n",
      "Bar: [ 0. -1.]\n",
      "End: [0. 0.]\n",
      "------------------------------\n",
      "i: 25\n",
      "p1 sum: 15.0\n",
      "p2 sum: -15.0\n",
      "Move: [[2, 7], [21, 22]]\n",
      "Roll: [1 5]\n",
      "Board:\n",
      "[ 0.  2. -1. -1.  1.  0.  2.  1. -1.  1.  4. -2.]\n",
      "[ 1.  0.  0.  0.  0.  0. -3.  1.  1.  1. -6. -1.]\n",
      "Bar: [0. 0.]\n",
      "End: [0. 0.]\n",
      "------------------------------\n",
      "i: 26\n",
      "p1 sum: 15.0\n",
      "p2 sum: -15.0\n",
      "Move: [[15, 9], [23, 17], [17, 11], [11, 5]]\n",
      "Roll: [6 6 6 6]\n",
      "Board:\n",
      "[ 0.  2. -1. -1.  1.  0.  2.  1. -1.  0.  5. -2.]\n",
      "[ 1.  0.  0.  0.  1.  0. -3.  1.  1.  0. -6. -1.]\n",
      "Bar: [0. 0.]\n",
      "End: [0. 0.]\n",
      "------------------------------\n",
      "i: 27\n",
      "p1 sum: 15.0\n",
      "p2 sum: -15.0\n",
      "Move: [[24, 0], [7, 12]]\n",
      "Roll: [1 5]\n",
      "Board:\n",
      "[ 0.  2. -1.  0.  1.  0.  2.  1. -1.  0.  5. -1.]\n",
      "[ 0.  0. -1.  0.  1.  0. -4.  1.  1.  0. -6. -1.]\n",
      "Bar: [1. 0.]\n",
      "End: [0. 0.]\n",
      "------------------------------\n",
      "i: 28\n",
      "p1 sum: 15.0\n",
      "p2 sum: -15.0\n",
      "Move: [[25, 19], [9, 7]]\n",
      "Roll: [2 5]\n",
      "Board:\n",
      "[ 1.  2. -1.  0.  1.  0.  2.  1. -1.  0.  5. -1.]\n",
      "[ 0.  0. -1.  0.  0.  0. -4.  1.  1.  0. -6.  1.]\n",
      "Bar: [ 0. -1.]\n",
      "End: [0. 0.]\n",
      "------------------------------\n",
      "i: 29\n",
      "p1 sum: 15.0\n",
      "p2 sum: -15.0\n",
      "Move: [[24, 2], [12, 14]]\n",
      "Roll: [2 3]\n",
      "Board:\n",
      "[ 1.  2. -1.  0.  1.  0.  2. -1. -1.  0.  5. -1.]\n",
      "[ 0.  0.  0.  0. -1.  0. -4.  1.  1.  0. -6.  1.]\n",
      "Bar: [1. 0.]\n",
      "End: [0. 0.]\n",
      "------------------------------\n",
      "i: 30\n",
      "p1 sum: 15.0\n",
      "p2 sum: -15.0\n",
      "Move: [[25, 23], [20, 17]]\n",
      "Roll: [3 1]\n",
      "Board:\n",
      "[ 0.  2.  1.  0.  1.  0.  2. -1. -1.  0.  5. -1.]\n",
      "[ 0.  0.  0.  0. -1.  0. -4.  1.  1.  1. -6.  1.]\n",
      "Bar: [ 0. -1.]\n",
      "End: [0. 0.]\n",
      "------------------------------\n",
      "i: 31\n",
      "p1 sum: 15.0\n",
      "p2 sum: -15.0\n",
      "Move: [[16, 18], [18, 20], [0, 2], [18, 20]]\n",
      "Roll: [2 2 2 2]\n",
      "Board:\n",
      "[ 0.  2.  1.  0.  1. -1.  2. -1.  0.  0.  5. -2.]\n",
      "[ 0.  0.  0.  0. -1.  0. -4.  1.  1.  1. -6.  1.]\n",
      "Bar: [0. 0.]\n",
      "End: [0. 0.]\n",
      "------------------------------\n",
      "i: 32\n",
      "p1 sum: 15.0\n",
      "p2 sum: -15.0\n",
      "Move: [[23, 21], [19, 17], [21, 19], [19, 17]]\n",
      "Roll: [2 2 2 2]\n",
      "Board:\n",
      "[ 0.  2.  1.  0.  0. -1.  1. -1.  2.  0.  5. -2.]\n",
      "[ 0.  0.  0.  0. -1.  0. -4.  1.  1.  2. -6.  0.]\n",
      "Bar: [0. 0.]\n",
      "End: [0. 0.]\n",
      "------------------------------\n",
      "i: 33\n",
      "p1 sum: 15.0\n",
      "p2 sum: -15.0\n",
      "Move: [[4, 8], [14, 18], [3, 7], [8, 12]]\n",
      "Roll: [4 4 4 4]\n",
      "Board:\n",
      "[ 0.  2.  1.  0.  0. -3.  1.  0.  2.  0.  5. -1.]\n",
      "[ 0.  0.  0.  0. -1.  0. -4.  1.  1.  2. -6.  0.]\n",
      "Bar: [0. 0.]\n",
      "End: [0. 0.]\n",
      "------------------------------\n",
      "i: 34\n",
      "p1 sum: 15.0\n",
      "p2 sum: -15.0\n",
      "Move: [[25, 20], [17, 14]]\n",
      "Roll: [3 4]\n",
      "Board:\n",
      "[ 1.  2.  0.  0.  0. -3.  2.  0.  2.  0.  5. -1.]\n",
      "[ 0.  0.  0.  0.  1.  0. -4.  0.  0.  2. -6.  0.]\n",
      "Bar: [ 0. -1.]\n",
      "End: [0. 0.]\n",
      "------------------------------\n",
      "i: 35\n",
      "p1 sum: 14.0\n",
      "p2 sum: -14.0\n",
      "Move: [[7, 11], [2, 3]]\n",
      "Roll: [1 4]\n",
      "Board:\n",
      "[ 1.  2. -1.  0.  0. -2.  2.  0.  1.  0.  5. -1.]\n",
      "[ 0.  0.  0.  0.  1.  0. -4.  0.  0.  2. -6.  0.]\n",
      "Bar: [0. 0.]\n",
      "End: [0. 0.]\n",
      "------------------------------\n",
      "i: 36\n",
      "p1 sum: 14.0\n",
      "p2 sum: -14.0\n",
      "Move: [[14, 8], [8, 3]]\n",
      "Roll: [6 5]\n",
      "Board:\n",
      "[ 1.  2. -1.  0.  0. -2.  2.  0.  1.  0.  5. -1.]\n",
      "[ 1.  0.  0.  0.  0.  0. -4.  0.  1.  1. -6.  0.]\n",
      "Bar: [0. 0.]\n",
      "End: [0. 0.]\n",
      "------------------------------\n",
      "i: 37\n",
      "p1 sum: 14.0\n",
      "p2 sum: -14.0\n",
      "Move: [[24, 2], [2, 4]]\n",
      "Roll: [2 3]\n",
      "Board:\n",
      "[ 1.  2.  0.  0.  0. -2.  2.  0.  1.  0.  5. -1.]\n",
      "[ 1.  0.  0.  0.  0.  0. -4.  0. -1.  1. -6.  0.]\n",
      "Bar: [1. 0.]\n",
      "End: [0. 0.]\n",
      "------------------------------\n",
      "i: 38\n",
      "p1 sum: 14.0\n",
      "p2 sum: -14.0\n",
      "Move: [[5, 1], [5, 0]]\n",
      "Roll: [5 4]\n",
      "Board:\n",
      "[ 1.  2.  0.  0.  0. -2.  2.  0.  1.  0.  5. -1.]\n",
      "[ 1.  0.  0.  0.  0.  0. -4.  1. -1.  1. -6.  0.]\n",
      "Bar: [0. 0.]\n",
      "End: [0. 0.]\n",
      "------------------------------\n",
      "i: 39\n",
      "p1 sum: 14.0\n",
      "p2 sum: -14.0\n",
      "Move: [[11, 16], [2, 7], [7, 12], [13, 18]]\n",
      "Roll: [5 5 5 5]\n",
      "Board:\n",
      "[ 1.  2.  0.  0.  0. -2.  2.  0.  1.  0.  5. -1.]\n",
      "[ 1.  0.  0.  0.  0.  0. -2.  1. -1.  1. -7. -1.]\n",
      "Bar: [0. 0.]\n",
      "End: [0. 0.]\n",
      "------------------------------\n",
      "i: 40\n",
      "p1 sum: 14.0\n",
      "p2 sum: -14.0\n",
      "Move: [[5, 0], [23, 19]]\n",
      "Roll: [5 4]\n",
      "Board:\n",
      "[ 2.  1.  0.  0.  1. -2.  3.  0.  1.  0.  5. -1.]\n",
      "[ 0.  0.  0.  0.  0.  0. -2.  1. -1.  0. -7. -1.]\n",
      "Bar: [0. 0.]\n",
      "End: [0. 0.]\n",
      "------------------------------\n",
      "i: 41\n",
      "p1 sum: 14.0\n",
      "p2 sum: -14.0\n",
      "Move: [[4, 9], [9, 14], [18, 23], [18, 23]]\n",
      "Roll: [5 5 5 5]\n",
      "Board:\n",
      "[ 2.  1.  0.  0.  1. -2.  3. -1.  1.  0.  5.  0.]\n",
      "[ 0.  0.  0.  0.  0.  0. -1.  1. -1.  0. -7. -2.]\n",
      "Bar: [0. 0.]\n",
      "End: [0. 0.]\n",
      "------------------------------\n",
      "i: 42\n",
      "p1 sum: 14.0\n",
      "p2 sum: -14.0\n",
      "Move: [[5, 4], [19, 14]]\n",
      "Roll: [5 1]\n",
      "Board:\n",
      "[ 2.  1.  1.  0.  1. -2.  1. -1.  1.  0.  5.  2.]\n",
      "[ 0.  0.  0.  0.  0.  0. -1.  0. -1.  0. -7. -2.]\n",
      "Bar: [0. 0.]\n",
      "End: [0. 0.]\n",
      "------------------------------\n",
      "i: 43\n",
      "p1 sum: 14.0\n",
      "p2 sum: -14.0\n",
      "Move: [[24, 4], [18, 22]]\n",
      "Roll: [5 4]\n",
      "Board:\n",
      "[ 2.  1. -1.  0.  1. -2.  1.  0.  1.  0.  5.  2.]\n",
      "[ 0.  0.  0.  0.  0.  0.  0. -1. -1.  0. -7. -2.]\n",
      "Bar: [1. 0.]\n",
      "End: [0. 0.]\n",
      "------------------------------\n",
      "i: 44\n",
      "p1 sum: 14.0\n",
      "p2 sum: -14.0\n",
      "Move: [[25, 18], [17, 14]]\n",
      "Roll: [3 6]\n",
      "Board:\n",
      "[ 2.  1. -1.  0.  1. -2.  0.  0.  1.  0.  6.  2.]\n",
      "[ 0.  0.  0.  0.  0.  0.  0.  1. -1.  0. -7. -2.]\n",
      "Bar: [ 0. -1.]\n",
      "End: [0. 0.]\n",
      "------------------------------\n",
      "i: 45\n",
      "p1 sum: 14.0\n",
      "p2 sum: -14.0\n",
      "Move: [[4, 10], [10, 16], [16, 22], [16, 22]]\n",
      "Roll: [6 6 6 6]\n",
      "Board:\n",
      "[ 2.  1. -2.  0.  1. -1. -1.  0.  1.  0.  6.  2.]\n",
      "[ 0.  0.  0.  0.  0.  0.  0.  1. -1.  0. -7. -2.]\n",
      "Bar: [0. 0.]\n",
      "End: [0. 0.]\n",
      "------------------------------\n",
      "i: 46\n",
      "p1 sum: 14.0\n",
      "p2 sum: -14.0\n",
      "Move: [[17, 16], [16, 14]]\n",
      "Roll: [1 2]\n",
      "Board:\n",
      "[ 2.  1. -2.  0.  0. -1. -1.  0.  1.  0.  8.  2.]\n",
      "[ 0.  0.  0.  0.  0.  0.  0.  0. -1.  0. -7. -2.]\n",
      "Bar: [0. 0.]\n",
      "End: [0. 0.]\n",
      "------------------------------\n",
      "i: 47\n",
      "p1 sum: 14.0\n",
      "p2 sum: -14.0\n",
      "Move: [[13, 15], [15, 21]]\n",
      "Roll: [6 2]\n",
      "Board:\n",
      "[ 2.  1. -3.  0.  0.  0. -1.  0.  1.  0.  8.  2.]\n",
      "[ 0.  0.  0.  0.  0.  0.  0.  0. -1.  0. -7. -2.]\n",
      "Bar: [0. 0.]\n",
      "End: [0. 0.]\n",
      "------------------------------\n",
      "i: 48\n",
      "p1 sum: 14.0\n",
      "p2 sum: -14.0\n",
      "Move: [[14, 10], [14, 13]]\n",
      "Roll: [4 1]\n",
      "Board:\n",
      "[ 2.  0. -3.  0.  0.  0. -1.  0.  1.  1.  8.  2.]\n",
      "[ 0.  0.  0.  0.  0.  0.  0.  0. -1.  0. -7. -2.]\n",
      "Bar: [0. 0.]\n",
      "End: [0. 0.]\n",
      "------------------------------\n",
      "i: 49\n",
      "p1 sum: 14.0\n",
      "p2 sum: -14.0\n",
      "Move: [[12, 18], [21, 22]]\n",
      "Roll: [6 1]\n",
      "Board:\n",
      "[ 2. -1. -1.  0.  0.  0. -1.  0.  1.  1.  8.  2.]\n",
      "[ 0. -1.  0.  0.  0.  0.  0.  0. -1.  0. -7. -2.]\n",
      "Bar: [0. 0.]\n",
      "End: [0. 0.]\n",
      "------------------------------\n"
     ]
    }
   ],
   "source": [
    "for i in range(50):\n",
    "    b = board_tracker[i]\n",
    "    print(\"i:\", i)\n",
    "    print(\"p1 sum:\", b[np.where(b > 0)].sum())\n",
    "    print(\"p2 sum:\", b[np.where(b < 0)].sum())\n",
    "    print(\"Move:\", move_tracker[i])\n",
    "    print(\"Roll:\", roll_tracker[i])\n",
    "    pretty_print(b)\n",
    "    print(\"-\"*30)"
   ]
  },
  {
   "cell_type": "code",
   "execution_count": null,
   "metadata": {},
   "outputs": [],
   "source": []
  },
  {
   "cell_type": "code",
   "execution_count": null,
   "metadata": {},
   "outputs": [],
   "source": []
  },
  {
   "cell_type": "code",
   "execution_count": null,
   "metadata": {},
   "outputs": [],
   "source": []
  },
  {
   "cell_type": "code",
   "execution_count": null,
   "metadata": {},
   "outputs": [],
   "source": []
  },
  {
   "cell_type": "code",
   "execution_count": 826,
   "metadata": {},
   "outputs": [],
   "source": [
    "from tqdm.notebook import tqdm\n",
    "import matplotlib.pyplot as plt"
   ]
  },
  {
   "cell_type": "code",
   "execution_count": 828,
   "metadata": {},
   "outputs": [
    {
     "data": {
      "application/vnd.jupyter.widget-view+json": {
       "model_id": "2b6fd7ed30ea43a18a7ad2e0b0f90548",
       "version_major": 2,
       "version_minor": 0
      },
      "text/plain": [
       "HBox(children=(FloatProgress(value=0.0, max=1000.0), HTML(value='')))"
      ]
     },
     "metadata": {},
     "output_type": "display_data"
    },
    {
     "name": "stdout",
     "output_type": "stream",
     "text": [
      "\n"
     ]
    }
   ],
   "source": [
    "# Run a bunch of times\n",
    "N = 1000\n",
    "p1 = Player(\"player 1\")\n",
    "p2 = Player(\"player 2\")\n",
    "counts = np.zeros(N)\n",
    "\n",
    "for i in tqdm(range(N)):\n",
    "    # Run the game\n",
    "    out = play_game(p1, p2)\n",
    "    counts[i] = out['turns']"
   ]
  },
  {
   "cell_type": "code",
   "execution_count": 831,
   "metadata": {},
   "outputs": [
    {
     "data": {
      "image/png": "[encoded data removed]",
      "text/plain": [
       "<Figure size 432x288 with 1 Axes>"
      ]
     },
     "metadata": {
      "needs_background": "light"
     },
     "output_type": "display_data"
    }
   ],
   "source": [
    "# plot the results\n",
    "plt.hist(counts, bins=40)\n",
    "plt.show()"
   ]
  },
  {
   "cell_type": "code",
   "execution_count": 829,
   "metadata": {},
   "outputs": [
    {
     "name": "stdout",
     "output_type": "stream",
     "text": [
      "66.5 ms ± 12.9 ms per loop (mean ± std. dev. of 7 runs, 10 loops each)\n"
     ]
    }
   ],
   "source": [
    "%%timeit\n",
    "# How long does it actually take\n",
    "out = play_game(p1, p2)"
   ]
  },
  {
   "cell_type": "code",
   "execution_count": null,
   "metadata": {},
   "outputs": [],
   "source": []
  },
  {
   "cell_type": "code",
   "execution_count": 832,
   "metadata": {},
   "outputs": [
    {
     "data": {
      "text/plain": [
       "array([ 0,  1,  2,  3,  4,  5,  6,  7,  8,  9, 10, 11, 12, 13, 14, 15, 16,\n",
       "       17, 18, 19, 20, 21, 22, 23])"
      ]
     },
     "execution_count": 832,
     "metadata": {},
     "output_type": "execute_result"
    }
   ],
   "source": [
    "np.arange(0, 24, 1)"
   ]
  },
  {
   "cell_type": "code",
   "execution_count": null,
   "metadata": {},
   "outputs": [],
   "source": []
  },
  {
   "cell_type": "code",
   "execution_count": null,
   "metadata": {},
   "outputs": [],
   "source": []
  },
  {
   "cell_type": "code",
   "execution_count": null,
   "metadata": {},
   "outputs": [],
   "source": []
  },
  {
   "cell_type": "code",
   "execution_count": null,
   "metadata": {},
   "outputs": [],
   "source": []
  },
  {
   "cell_type": "code",
   "execution_count": 820,
   "metadata": {},
   "outputs": [
    {
     "name": "stdout",
     "output_type": "stream",
     "text": [
      "Number of turns: 136\n",
      "Winner:  player 1\n"
     ]
    }
   ],
   "source": [
    "# Initialize a board\n",
    "board = init_state()\n",
    "board_tracker = [board] # list of boards\n",
    "\n",
    "# Initialize players\n",
    "p1 = Player(\"player 1\")\n",
    "p2 = Player(\"player 2\")\n",
    "\n",
    "# Roll the first to decide who goes first\n",
    "not_same = True\n",
    "while not_same:\n",
    "    vals = roll()\n",
    "    not_same = True if (len(vals) != 2) else False\n",
    "\n",
    "if (vals[0] > vals[1]):\n",
    "    player = p1\n",
    "else:\n",
    "    player = p2\n",
    "    \n",
    "# Game loop\n",
    "game_over = False\n",
    "i = 0\n",
    "while not game_over:\n",
    "    i += 1\n",
    "    \n",
    "    # Get players move\n",
    "    next_move = player.action(board, vals)\n",
    "    \n",
    "    # Update the board\n",
    "    board = update_by_moves(board, next_move)\n",
    "    board_tracker.append(board)\n",
    "    \n",
    "    # Roll the dice\n",
    "    vals = roll()\n",
    "    \n",
    "    # Switch player\n",
    "    player = p2 if (player == p1) else p1\n",
    "    \n",
    "    # Check if the game is over\n",
    "    if (board[26] >= 15. or board[27] <= -15.):\n",
    "        game_over = True\n",
    "        \n",
    "    if (i >= 10000):\n",
    "        print(\"PROBLEM\")\n",
    "        game_over = True\n",
    "        \n",
    "print(\"Number of turns:\", i)\n",
    "print(\"Winner: \", player)"
   ]
  },
  {
   "cell_type": "code",
   "execution_count": 819,
   "metadata": {},
   "outputs": [
    {
     "name": "stdout",
     "output_type": "stream",
     "text": [
      "Board:\n",
      "[0. 0. 0. 0. 0. 0. 0. 0. 0. 0. 0. 0.]\n",
      "[ 0.  0.  0.  0.  0.  0.  0.  0. -1. -1. -4.  0.]\n",
      "Bar: [0. 0.]\n",
      "End: [15. -9.]\n"
     ]
    }
   ],
   "source": [
    "b = board_tracker[-1]\n",
    "pretty_print(b)"
   ]
  },
  {
   "cell_type": "code",
   "execution_count": 779,
   "metadata": {},
   "outputs": [
    {
     "data": {
      "text/plain": [
       "array([5, 3])"
      ]
     },
     "execution_count": 779,
     "metadata": {},
     "output_type": "execute_result"
    }
   ],
   "source": [
    "vals"
   ]
  },
  {
   "cell_type": "code",
   "execution_count": 780,
   "metadata": {},
   "outputs": [
    {
     "data": {
      "text/plain": [
       "[]"
      ]
     },
     "execution_count": 780,
     "metadata": {},
     "output_type": "execute_result"
    }
   ],
   "source": [
    "get_all_moves(b, vals, 'player 2')"
   ]
  },
  {
   "cell_type": "code",
   "execution_count": 778,
   "metadata": {},
   "outputs": [
    {
     "data": {
      "text/plain": [
       "[[0, 27]]"
      ]
     },
     "execution_count": 778,
     "metadata": {},
     "output_type": "execute_result"
    }
   ],
   "source": [
    "get_possible_moves(b, 1, 'player 2')"
   ]
  },
  {
   "cell_type": "code",
   "execution_count": 719,
   "metadata": {
    "collapsed": true,
    "jupyter": {
     "outputs_hidden": true
    }
   },
   "outputs": [
    {
     "name": "stdout",
     "output_type": "stream",
     "text": [
      "Board:\n",
      "[-5.  0.  0.  0.  3.  0.  5.  0.  0.  0.  0. -2.]\n",
      "[ 5.  0.  0.  0. -3.  0. -5.  0.  0.  0.  0.  2.]\n",
      "Bar: [0. 0.]\n",
      "End: [0. 0.]\n",
      "--------------------\n",
      "Board:\n",
      "[-4.  0.  0.  0.  3.  0.  5.  0.  0.  0.  0. -2.]\n",
      "[ 5.  0.  0. -1. -2.  0. -5.  0.  0. -1.  0.  2.]\n",
      "Bar: [0. 0.]\n",
      "End: [0. 0.]\n",
      "--------------------\n",
      "Board:\n",
      "[-4.  0.  0.  0.  1.  0.  5.  0.  0.  3.  0. -2.]\n",
      "[ 4.  0.  0. -1. -2.  0. -5.  0.  0. -1.  0.  2.]\n",
      "Bar: [0. 0.]\n",
      "End: [0. 0.]\n",
      "--------------------\n",
      "Board:\n",
      "[-3.  0.  0.  0.  1.  0.  5.  0.  0.  3.  0. -2.]\n",
      "[ 4.  0.  0. -1. -2.  0. -5.  0.  0. -2.  0.  2.]\n",
      "Bar: [0. 0.]\n",
      "End: [0. 0.]\n",
      "--------------------\n",
      "Board:\n",
      "[-3.  0.  2.  0.  0.  0.  5.  1.  0.  3.  0. -2.]\n",
      "[ 2.  0.  0. -1. -2.  0. -5.  0.  1. -2.  0.  1.]\n",
      "Bar: [0. 0.]\n",
      "End: [0. 0.]\n",
      "--------------------\n",
      "Board:\n",
      "[-2.  0.  2.  0.  0.  0.  5.  1.  0.  3.  0. -2.]\n",
      "[ 2.  0.  0. -1. -1. -1. -6.  0.  1. -2.  0.  1.]\n",
      "Bar: [0. 0.]\n",
      "End: [0. 0.]\n",
      "--------------------\n",
      "Board:\n",
      "[-2.  0.  1.  0.  0.  0.  5.  1.  1.  3.  0. -2.]\n",
      "[ 2.  0.  0. -1. -1. -1. -6.  0.  1. -2.  0.  1.]\n",
      "Bar: [0. 0.]\n",
      "End: [0. 0.]\n",
      "--------------------\n",
      "Board:\n",
      "[-2.  0.  1.  0.  0.  0.  5.  1.  1.  3.  0. -2.]\n",
      "[ 2.  0.  0.  0. -2. -1. -5.  0.  1. -3.  0.  1.]\n",
      "Bar: [0. 0.]\n",
      "End: [0. 0.]\n",
      "--------------------\n",
      "Board:\n",
      "[-2.  0.  1.  0.  0.  0.  4.  2.  1.  3.  0. -2.]\n",
      "[ 2.  0.  0.  0. -2. -1. -5.  1.  1. -3.  0.  0.]\n",
      "Bar: [0. 0.]\n",
      "End: [0. 0.]\n",
      "--------------------\n",
      "Board:\n",
      "[-1.  0.  1.  0.  0. -1.  4.  2.  0.  3.  0. -1.]\n",
      "[ 2.  0. -1.  0. -1. -1. -5. -1.  1. -3.  0.  0.]\n",
      "Bar: [1. 0.]\n",
      "End: [0. 0.]\n",
      "--------------------\n",
      "Board:\n",
      "[-1.  0.  1.  0.  0. -1.  4.  1.  0.  3.  1. -1.]\n",
      "[ 2.  0. -1.  0. -1. -1. -5. -1.  1. -3.  1.  0.]\n",
      "Bar: [0. 0.]\n",
      "End: [0. 0.]\n",
      "--------------------\n",
      "Board:\n",
      "[-1.  0. -1.  0.  0.  0.  4.  1.  0.  3.  1. -1.]\n",
      "[ 2.  0. -1.  0.  0. -2. -5. -1.  1. -3.  1.  0.]\n",
      "Bar: [1. 0.]\n",
      "End: [0. 0.]\n",
      "--------------------\n",
      "Board:\n",
      "[-1.  0. -1.  0.  0.  0.  4.  1.  0.  3.  1. -1.]\n",
      "[ 2.  0. -1.  0.  0. -2. -5.  2.  1. -3.  0.  0.]\n",
      "Bar: [0. 1.]\n",
      "End: [0. 0.]\n",
      "--------------------\n",
      "Board:\n",
      "[-1.  0. -1.  0.  0.  0.  4.  1.  0.  3.  1. -1.]\n",
      "[ 2.  0. -1.  0.  0. -2. -5.  2.  1. -3.  0.  0.]\n",
      "Bar: [0. 1.]\n",
      "End: [0. 0.]\n",
      "--------------------\n",
      "Board:\n",
      "[-1.  0. -1.  0.  0.  0.  3.  1.  1.  2.  2. -1.]\n",
      "[ 2.  0. -1.  0.  0. -2. -5.  2.  1. -3.  0.  0.]\n",
      "Bar: [0. 1.]\n",
      "End: [0. 0.]\n",
      "--------------------\n",
      "Board:\n",
      "[-1.  0. -1.  0.  0.  0.  3.  1.  1.  2.  2. -1.]\n",
      "[ 2.  0. -1.  0.  0. -2. -5.  2.  1. -3.  0.  0.]\n",
      "Bar: [0. 1.]\n",
      "End: [0. 0.]\n",
      "--------------------\n",
      "Board:\n",
      "[-1.  0. -1.  0.  0.  0.  3.  1.  0.  2.  2.  1.]\n",
      "[ 2.  1. -1.  0.  0. -2. -5.  1.  1. -3.  0.  0.]\n",
      "Bar: [0. 2.]\n",
      "End: [0. 0.]\n",
      "--------------------\n",
      "Board:\n",
      "[-1.  0. -1.  0.  0.  0.  3.  1.  0.  2.  2.  1.]\n",
      "[ 2.  1. -1.  0.  0. -2. -5.  1.  1. -3.  0.  0.]\n",
      "Bar: [0. 2.]\n",
      "End: [0. 0.]\n",
      "--------------------\n",
      "Board:\n",
      "[-1.  0. -1.  0.  0.  0.  3.  1.  0.  1.  2.  2.]\n",
      "[ 2.  1. -1.  0.  1. -2. -5.  1.  0. -3.  0.  0.]\n",
      "Bar: [0. 2.]\n",
      "End: [0. 0.]\n",
      "--------------------\n",
      "Board:\n",
      "[-1.  0. -1.  0.  0.  0.  3.  1.  0.  1.  2.  2.]\n",
      "[ 2.  1. -1.  0.  1. -2. -5.  1.  0. -3.  0.  0.]\n",
      "Bar: [0. 2.]\n",
      "End: [0. 0.]\n",
      "--------------------\n",
      "Board:\n",
      "[-1.  0.  1.  0.  0.  0.  1.  0.  0.  1.  4.  3.]\n",
      "[ 2.  0. -1.  0.  1. -2. -5.  1.  0. -3.  0.  0.]\n",
      "Bar: [0. 3.]\n",
      "End: [0. 0.]\n",
      "--------------------\n",
      "Board:\n",
      "[-1.  0.  1.  0.  0.  0.  1.  0.  0.  1.  4.  3.]\n",
      "[ 2.  0. -1.  0.  1. -2. -5.  1.  0. -3.  0.  0.]\n",
      "Bar: [0. 3.]\n",
      "End: [0. 0.]\n",
      "--------------------\n",
      "Board:\n",
      "[1. 0. 1. 0. 0. 1. 1. 0. 0. 1. 4. 3.]\n",
      "[ 1.  0. -1.  0.  0. -2. -5.  1.  0. -3.  0.  0.]\n",
      "Bar: [0. 4.]\n",
      "End: [0. 0.]\n",
      "--------------------\n",
      "Board:\n",
      "[1. 0. 1. 0. 0. 1. 1. 1. 0. 2. 4. 3.]\n",
      "[ 1.  0. -1.  0.  0. -2. -5.  1.  0. -3.  0.  0.]\n",
      "Bar: [0. 2.]\n",
      "End: [0. 0.]\n",
      "--------------------\n",
      "Board:\n",
      "[1. 0. 1. 0. 0. 1. 0. 1. 0. 2. 5. 3.]\n",
      "[ 1.  0. -1.  0.  0. -2. -5.  1.  0. -3.  0.  0.]\n",
      "Bar: [0. 2.]\n",
      "End: [0. 0.]\n",
      "--------------------\n",
      "Board:\n",
      "[1. 0. 1. 0. 0. 1. 0. 1. 0. 2. 5. 3.]\n",
      "[ 1.  0. -1.  0.  0. -2. -5.  1.  0. -3.  0.  0.]\n",
      "Bar: [0. 2.]\n",
      "End: [0. 0.]\n",
      "--------------------\n",
      "Board:\n",
      "[1. 0. 0. 0. 0. 0. 1. 1. 0. 3. 5. 3.]\n",
      "[ 1.  0. -1.  0.  0. -2. -5.  1.  0. -3.  0.  0.]\n",
      "Bar: [0. 2.]\n",
      "End: [0. 0.]\n",
      "--------------------\n",
      "Board:\n",
      "[1. 0. 0. 0. 0. 0. 1. 1. 0. 3. 5. 3.]\n",
      "[ 1.  0. -1.  0.  0. -2. -5.  1.  0. -3.  0.  0.]\n",
      "Bar: [0. 2.]\n",
      "End: [0. 0.]\n",
      "--------------------\n",
      "Board:\n",
      "[0. 0. 0. 0. 0. 0. 2. 0. 0. 3. 6. 3.]\n",
      "[ 1.  0. -1.  0.  0. -2. -5.  1.  0. -3.  0.  0.]\n",
      "Bar: [0. 2.]\n",
      "End: [0. 0.]\n",
      "--------------------\n",
      "Board:\n",
      "[0. 0. 0. 0. 0. 0. 2. 0. 0. 3. 6. 3.]\n",
      "[ 1.  0. -1.  0.  0. -2. -5.  1.  0. -3.  0.  0.]\n",
      "Bar: [0. 2.]\n",
      "End: [0. 0.]\n",
      "--------------------\n",
      "Board:\n",
      "[0. 1. 0. 0. 0. 0. 1. 0. 0. 3. 7. 3.]\n",
      "[ 0.  0. -1.  0.  0. -2. -5.  1.  0. -3.  0.  0.]\n",
      "Bar: [0. 2.]\n",
      "End: [0. 0.]\n",
      "--------------------\n",
      "Board:\n",
      "[0. 1. 0. 0. 0. 0. 1. 0. 0. 3. 7. 3.]\n",
      "[ 0.  0. -1.  0.  0. -2. -5.  1.  0. -3.  0.  0.]\n",
      "Bar: [0. 2.]\n",
      "End: [0. 0.]\n",
      "--------------------\n",
      "Board:\n",
      "[0. 0. 0. 0. 0. 0. 1. 1. 0. 3. 7. 3.]\n",
      "[ 0.  0. -1.  0.  0. -2. -5.  1.  0. -3.  0.  0.]\n",
      "Bar: [0. 2.]\n",
      "End: [0. 0.]\n",
      "--------------------\n",
      "Board:\n",
      "[0. 0. 0. 0. 0. 0. 1. 1. 0. 3. 7. 3.]\n",
      "[ 0.  0. -1.  0.  0. -2. -5.  1.  0. -3.  0.  0.]\n",
      "Bar: [0. 2.]\n",
      "End: [0. 0.]\n",
      "--------------------\n",
      "Board:\n",
      "[0. 1. 0. 0. 0. 0. 1. 1. 0. 3. 7. 3.]\n",
      "[ 0.  0. -1.  0.  0. -2. -5.  0.  0. -3.  0.  0.]\n",
      "Bar: [0. 2.]\n",
      "End: [0. 0.]\n",
      "--------------------\n",
      "Board:\n",
      "[0. 1. 0. 0. 0. 0. 1. 1. 0. 3. 7. 3.]\n",
      "[ 0.  0. -1.  0.  0. -2. -5.  0.  0. -3.  0.  0.]\n",
      "Bar: [0. 2.]\n",
      "End: [0. 0.]\n",
      "--------------------\n",
      "Board:\n",
      "[0. 0. 0. 0. 0. 0. 1. 0. 0. 4. 6. 4.]\n",
      "[ 0.  0. -1.  0.  0. -2. -5.  0.  0. -3.  0.  0.]\n",
      "Bar: [0. 2.]\n",
      "End: [1. 0.]\n",
      "--------------------\n",
      "Board:\n",
      "[0. 0. 0. 0. 0. 0. 1. 1. 1. 4. 6. 4.]\n",
      "[ 0.  0. -1.  0.  0. -2. -5.  0.  0. -3.  0.  0.]\n",
      "Bar: [0. 0.]\n",
      "End: [1. 0.]\n",
      "--------------------\n",
      "Board:\n",
      "[0. 0. 0. 0. 0. 0. 1. 0. 1. 4. 5. 4.]\n",
      "[ 0.  0. -1.  0.  0. -2. -5.  0.  0. -3.  0.  0.]\n",
      "Bar: [0. 0.]\n",
      "End: [3. 0.]\n",
      "--------------------\n",
      "Board:\n",
      "[0. 0. 0. 0. 0. 0. 1. 0. 1. 4. 5. 4.]\n",
      "[ 0.  0. -1.  0.  0. -1. -4. -1.  0. -3.  0. -1.]\n",
      "Bar: [0. 0.]\n",
      "End: [3. 0.]\n",
      "--------------------\n",
      "Board:\n",
      "[0. 0. 0. 0. 0. 0. 0. 0. 1. 4. 5. 4.]\n",
      "[ 0.  0. -1.  0.  0. -1. -4. -1.  0. -3.  0. -1.]\n",
      "Bar: [0. 0.]\n",
      "End: [4. 0.]\n",
      "--------------------\n",
      "Board:\n",
      "[0. 0. 0. 0. 0. 0. 0. 0. 1. 4. 5. 4.]\n",
      "[ 0.  0.  0.  0.  0.  0. -4. -3.  0. -3.  0. -1.]\n",
      "Bar: [0. 0.]\n",
      "End: [4. 0.]\n",
      "--------------------\n",
      "Board:\n",
      "[0. 0. 0. 0. 0. 0. 0. 0. 0. 3. 4. 3.]\n",
      "[ 0.  0.  0.  0.  0.  0. -4. -3.  0. -3.  0. -1.]\n",
      "Bar: [0. 0.]\n",
      "End: [8. 0.]\n",
      "--------------------\n",
      "Board:\n",
      "[0. 0. 0. 0. 0. 0. 0. 0. 0. 3. 4. 3.]\n",
      "[ 0.  0.  0.  0.  0.  0. -4. -2.  0. -2.  0. -1.]\n",
      "Bar: [0. 0.]\n",
      "End: [ 8. -2.]\n",
      "--------------------\n",
      "Board:\n",
      "[0. 0. 0. 0. 0. 0. 0. 0. 0. 2. 1. 3.]\n",
      "[ 0.  0.  0.  0.  0.  0. -4. -2.  0. -2.  0. -1.]\n",
      "Bar: [0. 0.]\n",
      "End: [12. -2.]\n",
      "--------------------\n",
      "Board:\n",
      "[0. 0. 0. 0. 0. 0. 0. 0. 0. 2. 1. 3.]\n",
      "[ 0.  0.  0.  0.  0.  0. -4. -2.  0. -1.  0. -1.]\n",
      "Bar: [0. 0.]\n",
      "End: [12. -3.]\n",
      "--------------------\n",
      "Board:\n",
      "[0. 0. 0. 0. 0. 0. 0. 0. 0. 2. 0. 2.]\n",
      "[ 0.  0.  0.  0.  0.  0. -4. -2.  0. -1.  0. -1.]\n",
      "Bar: [0. 0.]\n",
      "End: [14. -3.]\n",
      "--------------------\n",
      "Board:\n",
      "[0. 0. 0. 0. 0. 0. 0. 0. 0. 2. 0. 2.]\n",
      "[ 0.  0.  0.  0.  0.  0. -4. -2.  0.  0. -1.  0.]\n",
      "Bar: [0. 0.]\n",
      "End: [14. -4.]\n",
      "--------------------\n",
      "Board:\n",
      "[0. 0. 0. 0. 0. 0. 0. 0. 0. 0. 0. 0.]\n",
      "[ 0.  0.  0.  0.  0.  0. -4. -2.  0.  0. -1.  0.]\n",
      "Bar: [0. 0.]\n",
      "End: [18. -4.]\n",
      "--------------------\n"
     ]
    }
   ],
   "source": [
    "for board in board_tracker:\n",
    "    pretty_print(board)\n",
    "    print(\"-\"*20)"
   ]
  },
  {
   "cell_type": "code",
   "execution_count": null,
   "metadata": {},
   "outputs": [],
   "source": []
  },
  {
   "cell_type": "code",
   "execution_count": null,
   "metadata": {},
   "outputs": [],
   "source": []
  },
  {
   "cell_type": "code",
   "execution_count": null,
   "metadata": {},
   "outputs": [],
   "source": []
  },
  {
   "cell_type": "code",
   "execution_count": null,
   "metadata": {},
   "outputs": [],
   "source": []
  },
  {
   "cell_type": "code",
   "execution_count": null,
   "metadata": {},
   "outputs": [],
   "source": []
  },
  {
   "cell_type": "code",
   "execution_count": null,
   "metadata": {},
   "outputs": [],
   "source": []
  },
  {
   "cell_type": "code",
   "execution_count": null,
   "metadata": {},
   "outputs": [],
   "source": []
  },
  {
   "cell_type": "markdown",
   "metadata": {},
   "source": [
    "---\n",
    "## Scratch"
   ]
  },
  {
   "cell_type": "code",
   "execution_count": 147,
   "metadata": {},
   "outputs": [
    {
     "name": "stdout",
     "output_type": "stream",
     "text": [
      "4\n"
     ]
    }
   ],
   "source": [
    "# Focus on one number\n",
    "val = roll()[0]\n",
    "print(val)"
   ]
  },
  {
   "cell_type": "code",
   "execution_count": 148,
   "metadata": {},
   "outputs": [],
   "source": [
    "# Force val\n",
    "val = 1"
   ]
  },
  {
   "cell_type": "code",
   "execution_count": 169,
   "metadata": {},
   "outputs": [],
   "source": [
    "# Place one at the bar\n",
    "board[24] = 1"
   ]
  },
  {
   "cell_type": "markdown",
   "metadata": {},
   "source": [
    "How to check for moves?\n",
    "- Check if at the bar\n",
    "- If not at the bar\n",
    "    - get furtherst back index and make boolean if all in last quadrant\n",
    "    - Get indicies of all postive chips\n",
    "    - for each index\n",
    "        - if index + roll < end board index\n",
    "            - check if board[index + roll] is >= -1\n",
    "                - If so, add move to move list\n",
    "        - Else \n",
    "            - if last quadrant tracker is true\n",
    "                - add move ending in end board position for this player\n",
    "                \n",
    "At some point I need to be checking if the game is over?"
   ]
  },
  {
   "cell_type": "code",
   "execution_count": 170,
   "metadata": {},
   "outputs": [
    {
     "data": {
      "text/plain": [
       "(array([ 0, 11, 16, 18, 24]),)"
      ]
     },
     "execution_count": 170,
     "metadata": {},
     "output_type": "execute_result"
    }
   ],
   "source": [
    "np.where(board > 0)"
   ]
  },
  {
   "cell_type": "code",
   "execution_count": 162,
   "metadata": {},
   "outputs": [],
   "source": [
    "# Setup Constants \n",
    "last_quad_start = 18\n",
    "bar = 24\n",
    "end_holder = 26"
   ]
  },
  {
   "cell_type": "code",
   "execution_count": 178,
   "metadata": {},
   "outputs": [
    {
     "name": "stdout",
     "output_type": "stream",
     "text": [
      "have bar\n",
      "-5.0\n",
      "Roll: 6\n",
      "Possible moves: []\n",
      "Board:\n",
      "[-5.  0.  0.  0.  3.  0.  5.  0.  0.  0.  0. -2.]\n",
      "[ 5.  0.  0.  0. -3.  0. -5.  0.  0.  0.  0.  2.]\n",
      "Bar: [1. 0.]\n",
      "End: [0. 0.]\n"
     ]
    }
   ],
   "source": [
    "# Roll\n",
    "# val = roll()[0]\n",
    "val = 6\n",
    "\n",
    "# Initialize move tracker\n",
    "possible_moves = []\n",
    "\n",
    "# Check if at the bar\n",
    "if (board[bar] > 0):\n",
    "    print(\"have bar\")\n",
    "    print(board[val-1])\n",
    "    if board[val-1] >= -1:\n",
    "        possible_moves.append([bar, val])\n",
    "\n",
    "# None at the bar\n",
    "else:\n",
    "    # get our inds\n",
    "    our_inds = np.where(board[0:24] > 0)[0] # as we don't want to consider end game state\n",
    "    \n",
    "    # Check if last quadrant\n",
    "    if (np.min(our_inds) >= last_quad_start):\n",
    "        last_quad = True\n",
    "    else:\n",
    "        last_quad = False\n",
    "        \n",
    "    # Check possible chips to move\n",
    "    for ind in our_inds:\n",
    "        if (ind + val < 24): # note, other player moves in other direciton\n",
    "            # legal, non chip removal move\n",
    "            if (board[ind + val] >= -1):\n",
    "                possible_moves.append([ind, ind+val])\n",
    "        else:\n",
    "            if (last_quad):\n",
    "                # then we can remove this piece\n",
    "                possible_moves.append([ind, end_holder])\n",
    "    \n",
    "print(\"Roll:\", val)\n",
    "print(\"Possible moves:\", possible_moves)\n",
    "pretty_print(board)"
   ]
  },
  {
   "cell_type": "code",
   "execution_count": 180,
   "metadata": {},
   "outputs": [],
   "source": []
  },
  {
   "cell_type": "code",
   "execution_count": null,
   "metadata": {},
   "outputs": [],
   "source": []
  }
 ],
 "metadata": {
  "kernelspec": {
   "display_name": "Python 3",
   "language": "python",
   "name": "python3"
  },
  "language_info": {
   "codemirror_mode": {
    "name": "ipython",
    "version": 3
   },
   "file_extension": ".py",
   "mimetype": "text/x-python",
   "name": "python",
   "nbconvert_exporter": "python",
   "pygments_lexer": "ipython3",
   "version": "3.7.6"
  }
 },
 "nbformat": 4,
 "nbformat_minor": 4
}
