{
 "cells": [
  {
   "cell_type": "markdown",
   "metadata": {},
   "source": [
    "# Training Colab\n",
    "This notebook is \"colab ready\" so I can simply link the GitHub repository and run with their GPU to speed up my training. "
   ]
  },
  {
   "cell_type": "markdown",
   "metadata": {},
   "source": [
    "---\n",
    "## Imports and Setup"
   ]
  },
  {
   "cell_type": "code",
   "execution_count": null,
   "metadata": {},
   "outputs": [],
   "source": [
    "# Load the rest of the repo \n",
    "! git clone https://github.com/kel89/Backgammon.git"
   ]
  },
  {
   "cell_type": "code",
   "execution_count": null,
   "metadata": {},
   "outputs": [],
   "source": [
    "# Impor the self made modules from the cloned repo\n",
    "import sys\n",
    "sys.path.append(\"./Backgammon\")\n",
    "from backgammon import *\n",
    "from RandomPlayer import *\n",
    "from PlayerANN import *"
   ]
  },
  {
   "cell_type": "code",
   "execution_count": 3,
   "metadata": {},
   "outputs": [],
   "source": [
    "import os\n",
    "os.environ['KMP_DUPLICATE_LIB_OK'] = 'True'"
   ]
  },
  {
   "cell_type": "code",
   "execution_count": 2,
   "metadata": {},
   "outputs": [],
   "source": [
    "# Import standard packages\n",
    "from tqdm.notebook import tqdm\n",
    "import numpy as np\n",
    "import tensorflow as tf\n",
    "\n",
    "# Self packages for loca used\n",
    "from backgammon import *\n",
    "from RandomPlayer import *\n",
    "from PlayerANN import *"
   ]
  },
  {
   "cell_type": "markdown",
   "metadata": {},
   "source": [
    "---\n",
    "## Game Setup and Helpers"
   ]
  },
  {
   "cell_type": "code",
   "execution_count": null,
   "metadata": {},
   "outputs": [],
   "source": [
    "def get_player_boards(obj):\n",
    "    \"\"\"\n",
    "    Takes in the game output dictionary\n",
    "    and returns (in another dictionary), all the boards \n",
    "    for each player, as well as a vector of wins and losses\n",
    "    (1's and 0's) to accopmony the board arrays\n",
    "    \"\"\"\n",
    "    # Extract needed info\n",
    "    starter = obj['starting_player'].which\n",
    "    winner = obj['winner'].which\n",
    "    boards = np.array(obj['boards'])\n",
    "    \n",
    "    # Setup the mods \n",
    "    if (starter == \"player 1\"):\n",
    "        p1_mod = 0\n",
    "        p2_mod = 1\n",
    "    else:\n",
    "        p1_mod = 1\n",
    "        p2_mod = 0\n",
    "        \n",
    "    # Parse the boards\n",
    "    p1_inds = np.where(np.arange(len(boards)) % 2 == p1_mod)[0]\n",
    "    p2_inds = np.where(np.arange(len(boards)) % 2 == p2_mod)[0]\n",
    "    p1_boards = boards[p1_inds]\n",
    "    p2_boards = boards[p2_inds]\n",
    "    \n",
    "    # Track the outcomes\n",
    "    if winner == \"player 1\":\n",
    "        p1_outcome = np.ones(p1_boards.shape[0])\n",
    "        p2_outcome = np.zeros(p2_boards.shape[0])\n",
    "    else:\n",
    "        p1_outcome = np.zeros(p1_boards.shape[0])\n",
    "        p2_outcome = np.ones(p2_boards.shape[0])\n",
    "        \n",
    "    return {\n",
    "        \"p1_boards\" : p1_boards,\n",
    "        \"p2_boards\" : p2_boards,\n",
    "        \"p1_outcome\": p1_outcome,\n",
    "        \"p2_outcome\": p2_outcome\n",
    "    }"
   ]
  },
  {
   "cell_type": "markdown",
   "metadata": {},
   "source": [
    "---\n",
    "## Training"
   ]
  },
  {
   "cell_type": "code",
   "execution_count": null,
   "metadata": {},
   "outputs": [],
   "source": [
    "# Setup the parameters and trackers\n",
    "N_games = 30\n",
    "TRAIN_EVERY = 10\n",
    "win_tracker = np.zeros(N_games)\n",
    "turn_count_tracker = np.zeros(N_games)"
   ]
  },
  {
   "cell_type": "code",
   "execution_count": 4,
   "metadata": {},
   "outputs": [],
   "source": [
    "# Initialize players\n",
    "p1 = PlayerANN(\"player 1\")\n",
    "p2 = PlayerANN(\"player 2\")"
   ]
  },
  {
   "cell_type": "code",
   "execution_count": null,
   "metadata": {},
   "outputs": [],
   "source": [
    "# Run and Train\n",
    "cum_boards = []\n",
    "cum_outcomes = []\n",
    "cum_boards2 = []\n",
    "cum_outcomes2 =[]\n",
    "first = True\n",
    "for i in tqdm(range(N_games)):\n",
    "    # Play the game\n",
    "    obj = play_game(p1, p2)\n",
    "    \n",
    "    # Get the boards and outcomes\n",
    "    parsed = get_player_boards(obj)\n",
    "    p1_boards = parsed['p1_boards']\n",
    "    p2_boards = parsed['p2_boards']\n",
    "    p1_outcome = parsed['p1_outcome']\n",
    "    p2_outcome = parsed['p2_outcome']\n",
    "    \n",
    "    # Track the outcome\n",
    "    win_tracker[i] = 1 if obj['winner'].which == \"player 1\" else 2\n",
    "    turn_count_tracker[i] = obj['turns']\n",
    "    \n",
    "    # Add boards and outcomes to intermediate trackers\n",
    "    cum_boards.append(p1_boards)\n",
    "    cum_outcomes.append(p1_outcome)\n",
    "    cum_boards2.append(p2_boards)\n",
    "    cum_outcomes2.append(p2_outcome)\n",
    "    \n",
    "    # Train every 100 games\n",
    "    if (i % TRAIN_EVERY == 0) and not first:\n",
    "        # Stack the boards and outcomes\n",
    "        stacked_boards = np.vstack(cum_boards)\n",
    "        stacked_outcomes = np.concatenate(cum_outcomes)\n",
    "        stacked_boards2 = np.vstack(cum_boards2)\n",
    "        stacked_outcomes2 = np.concatenate(cum_outcomes2)\n",
    "        \n",
    "        # Update the model\n",
    "        p1.update_model(stacked_boards, stacked_outcomes)\n",
    "        p2.update_model(stacked_boards2, stacked_outcomes2)\n",
    "        \n",
    "        # Reset the cummulators\n",
    "        cum_boards = []\n",
    "        cum_outcomes = []\n",
    "        cum_boards2 = []\n",
    "        cum_outcomes2 = []\n",
    "    \n",
    "    first = False"
   ]
  },
  {
   "cell_type": "markdown",
   "metadata": {},
   "source": [
    "---\n",
    "## Save Models"
   ]
  },
  {
   "cell_type": "code",
   "execution_count": null,
   "metadata": {},
   "outputs": [],
   "source": [
    "# Define the names\n",
    "p1_file_name = \"p1_model_weights\"\n",
    "p2_file_name = \"p2_model_weights\"\n",
    "\n",
    "# Save them\n",
    "p1.save_model(\"Backgammon/saved_models/p2_model_weights\")\n",
    "p2.save_model(\"Backgammom/saved_models/p2_model_weights\")"
   ]
  }
 ],
 "metadata": {
  "kernelspec": {
   "display_name": "Python 3",
   "language": "python",
   "name": "python3"
  },
  "language_info": {
   "codemirror_mode": {
    "name": "ipython",
    "version": 3
   },
   "file_extension": ".py",
   "mimetype": "text/x-python",
   "name": "python",
   "nbconvert_exporter": "python",
   "pygments_lexer": "ipython3",
   "version": "3.7.6"
  }
 },
 "nbformat": 4,
 "nbformat_minor": 4
}
